{
 "cells": [
  {
   "cell_type": "markdown",
   "metadata": {},
   "source": [
    "# Introduction\n",
    "## Why is suicide important??\n",
    "Suicide is the 10th leading cause of death and while it may seem like a small number its still means the suicide rate has increased by about 33%  from 1999 to 2017. \n",
    "\n",
    "These tragedies don't only affect the victim's families negatively but it also affects others around them. As being part of a pressing issue, we should be trying to understand where the problem comes from or if there is anything common on some suicide rates that can help us understand a common reason. \n",
    "## What are we trying to do?\n",
    "We're essentially trying to find what factors can affect the number of suicides that happen within the framwork of a community of people. Rather than looking at individual reasons for this phenomenon, we're trying to look at factors that are less individual and more plural and see if there's any particular way that society as a whole is contributing to this phenomenon. In essence, we're trying to answer the question of that if we're given a sample of people to observe, what factors would contribute to the phenomenon of suicide? Notice that we say people, not person. Unlike a lot of other studies, we're not looking at factors that could contribute to an individual suicide.  \n",
    "## Where we're getting our data from \n",
    "https://www.kaggle.com/russellyates88/suicide-rates-overview-1985-to-2016\n",
    "\n",
    "A dataset that shows data from countries, years, gender, age, suicide number, gdp per year and capita, population, and generation. "
   ]
  },
  {
   "cell_type": "markdown",
   "metadata": {},
   "source": [
    "# 1. Getting started\n",
    "# 1.1 Imports\n",
    "The imports we're using are: \n",
    "\n",
    "Pandas - used to manipulate data and analyze<br>\n",
    "Numpy - used for multiple numbers of mathematical operations<br>\n",
    "Folium - used for data visuals such as a map<br>\n",
    "MatPlotLib - used for data visuals on graphs<br>\n",
    "HeatMap - used to show a gradually changing effect over data via coloring shade\n",
    "SeaBorn - used to plot data on a heatmap"
   ]
  },
  {
   "cell_type": "code",
   "execution_count": 1,
   "metadata": {},
   "outputs": [
    {
     "name": "stdout",
     "output_type": "stream",
     "text": [
      "Requirement already satisfied: folium in /opt/conda/lib/python3.7/site-packages (0.10.1)\n",
      "Requirement already satisfied: branca>=0.3.0 in /opt/conda/lib/python3.7/site-packages (from folium) (0.3.1)\n",
      "Requirement already satisfied: numpy in /opt/conda/lib/python3.7/site-packages (from folium) (1.17.0)\n",
      "Requirement already satisfied: jinja2>=2.9 in /opt/conda/lib/python3.7/site-packages (from folium) (2.10.1)\n",
      "Requirement already satisfied: requests in /opt/conda/lib/python3.7/site-packages (from folium) (2.22.0)\n",
      "Requirement already satisfied: six in /opt/conda/lib/python3.7/site-packages (from branca>=0.3.0->folium) (1.12.0)\n",
      "Requirement already satisfied: MarkupSafe>=0.23 in /opt/conda/lib/python3.7/site-packages (from jinja2>=2.9->folium) (1.1.1)\n",
      "Requirement already satisfied: urllib3!=1.25.0,!=1.25.1,<1.26,>=1.21.1 in /opt/conda/lib/python3.7/site-packages (from requests->folium) (1.25.3)\n",
      "Requirement already satisfied: certifi>=2017.4.17 in /opt/conda/lib/python3.7/site-packages (from requests->folium) (2019.6.16)\n",
      "Requirement already satisfied: idna<2.9,>=2.5 in /opt/conda/lib/python3.7/site-packages (from requests->folium) (2.8)\n",
      "Requirement already satisfied: chardet<3.1.0,>=3.0.2 in /opt/conda/lib/python3.7/site-packages (from requests->folium) (3.0.4)\n"
     ]
    }
   ],
   "source": [
    "!pip install folium\n",
    "import pandas as pd\n",
    "import numpy as np\n",
    "import folium\n",
    "import matplotlib.pylab as plt\n",
    "from folium.plugins import HeatMap, HeatMapWithTime\n",
    "import seaborn as sns\n",
    "from sklearn.preprocessing import OneHotEncoder\n",
    "from sklearn.linear_model import LinearRegression\n",
    "from sklearn import linear_model\n",
    "from sklearn import model_selection\n",
    "from statsmodels import api as sm\n",
    "from sklearn.ensemble import RandomForestRegressor\n",
    "from sklearn.datasets import make_regression"
   ]
  },
  {
   "cell_type": "markdown",
   "metadata": {},
   "source": [
    "# 1. Acquiring the data\n",
    "The data is loaded from the csv file and fit to a pandas dataframe. "
   ]
  },
  {
   "cell_type": "code",
   "execution_count": 2,
   "metadata": {},
   "outputs": [
    {
     "data": {
      "text/html": [
       "<div>\n",
       "<style scoped>\n",
       "    .dataframe tbody tr th:only-of-type {\n",
       "        vertical-align: middle;\n",
       "    }\n",
       "\n",
       "    .dataframe tbody tr th {\n",
       "        vertical-align: top;\n",
       "    }\n",
       "\n",
       "    .dataframe thead th {\n",
       "        text-align: right;\n",
       "    }\n",
       "</style>\n",
       "<table border=\"1\" class=\"dataframe\">\n",
       "  <thead>\n",
       "    <tr style=\"text-align: right;\">\n",
       "      <th></th>\n",
       "      <th>country</th>\n",
       "      <th>year</th>\n",
       "      <th>sex</th>\n",
       "      <th>age</th>\n",
       "      <th>suicides_no</th>\n",
       "      <th>population</th>\n",
       "      <th>suicides/100k pop</th>\n",
       "      <th>country-year</th>\n",
       "      <th>HDI for year</th>\n",
       "      <th>gdp_for_year ($)</th>\n",
       "      <th>gdp_per_capita ($)</th>\n",
       "      <th>generation</th>\n",
       "    </tr>\n",
       "  </thead>\n",
       "  <tbody>\n",
       "    <tr>\n",
       "      <th>0</th>\n",
       "      <td>Albania</td>\n",
       "      <td>1987</td>\n",
       "      <td>male</td>\n",
       "      <td>15-24 years</td>\n",
       "      <td>21</td>\n",
       "      <td>312900</td>\n",
       "      <td>6.71</td>\n",
       "      <td>Albania1987</td>\n",
       "      <td>NaN</td>\n",
       "      <td>2,156,624,900</td>\n",
       "      <td>796</td>\n",
       "      <td>Generation X</td>\n",
       "    </tr>\n",
       "    <tr>\n",
       "      <th>1</th>\n",
       "      <td>Albania</td>\n",
       "      <td>1987</td>\n",
       "      <td>male</td>\n",
       "      <td>35-54 years</td>\n",
       "      <td>16</td>\n",
       "      <td>308000</td>\n",
       "      <td>5.19</td>\n",
       "      <td>Albania1987</td>\n",
       "      <td>NaN</td>\n",
       "      <td>2,156,624,900</td>\n",
       "      <td>796</td>\n",
       "      <td>Silent</td>\n",
       "    </tr>\n",
       "    <tr>\n",
       "      <th>2</th>\n",
       "      <td>Albania</td>\n",
       "      <td>1987</td>\n",
       "      <td>female</td>\n",
       "      <td>15-24 years</td>\n",
       "      <td>14</td>\n",
       "      <td>289700</td>\n",
       "      <td>4.83</td>\n",
       "      <td>Albania1987</td>\n",
       "      <td>NaN</td>\n",
       "      <td>2,156,624,900</td>\n",
       "      <td>796</td>\n",
       "      <td>Generation X</td>\n",
       "    </tr>\n",
       "    <tr>\n",
       "      <th>3</th>\n",
       "      <td>Albania</td>\n",
       "      <td>1987</td>\n",
       "      <td>male</td>\n",
       "      <td>75+ years</td>\n",
       "      <td>1</td>\n",
       "      <td>21800</td>\n",
       "      <td>4.59</td>\n",
       "      <td>Albania1987</td>\n",
       "      <td>NaN</td>\n",
       "      <td>2,156,624,900</td>\n",
       "      <td>796</td>\n",
       "      <td>G.I. Generation</td>\n",
       "    </tr>\n",
       "    <tr>\n",
       "      <th>4</th>\n",
       "      <td>Albania</td>\n",
       "      <td>1987</td>\n",
       "      <td>male</td>\n",
       "      <td>25-34 years</td>\n",
       "      <td>9</td>\n",
       "      <td>274300</td>\n",
       "      <td>3.28</td>\n",
       "      <td>Albania1987</td>\n",
       "      <td>NaN</td>\n",
       "      <td>2,156,624,900</td>\n",
       "      <td>796</td>\n",
       "      <td>Boomers</td>\n",
       "    </tr>\n",
       "    <tr>\n",
       "      <th>5</th>\n",
       "      <td>Albania</td>\n",
       "      <td>1987</td>\n",
       "      <td>female</td>\n",
       "      <td>75+ years</td>\n",
       "      <td>1</td>\n",
       "      <td>35600</td>\n",
       "      <td>2.81</td>\n",
       "      <td>Albania1987</td>\n",
       "      <td>NaN</td>\n",
       "      <td>2,156,624,900</td>\n",
       "      <td>796</td>\n",
       "      <td>G.I. Generation</td>\n",
       "    </tr>\n",
       "    <tr>\n",
       "      <th>6</th>\n",
       "      <td>Albania</td>\n",
       "      <td>1987</td>\n",
       "      <td>female</td>\n",
       "      <td>35-54 years</td>\n",
       "      <td>6</td>\n",
       "      <td>278800</td>\n",
       "      <td>2.15</td>\n",
       "      <td>Albania1987</td>\n",
       "      <td>NaN</td>\n",
       "      <td>2,156,624,900</td>\n",
       "      <td>796</td>\n",
       "      <td>Silent</td>\n",
       "    </tr>\n",
       "    <tr>\n",
       "      <th>7</th>\n",
       "      <td>Albania</td>\n",
       "      <td>1987</td>\n",
       "      <td>female</td>\n",
       "      <td>25-34 years</td>\n",
       "      <td>4</td>\n",
       "      <td>257200</td>\n",
       "      <td>1.56</td>\n",
       "      <td>Albania1987</td>\n",
       "      <td>NaN</td>\n",
       "      <td>2,156,624,900</td>\n",
       "      <td>796</td>\n",
       "      <td>Boomers</td>\n",
       "    </tr>\n",
       "    <tr>\n",
       "      <th>8</th>\n",
       "      <td>Albania</td>\n",
       "      <td>1987</td>\n",
       "      <td>male</td>\n",
       "      <td>55-74 years</td>\n",
       "      <td>1</td>\n",
       "      <td>137500</td>\n",
       "      <td>0.73</td>\n",
       "      <td>Albania1987</td>\n",
       "      <td>NaN</td>\n",
       "      <td>2,156,624,900</td>\n",
       "      <td>796</td>\n",
       "      <td>G.I. Generation</td>\n",
       "    </tr>\n",
       "    <tr>\n",
       "      <th>9</th>\n",
       "      <td>Albania</td>\n",
       "      <td>1987</td>\n",
       "      <td>female</td>\n",
       "      <td>5-14 years</td>\n",
       "      <td>0</td>\n",
       "      <td>311000</td>\n",
       "      <td>0.00</td>\n",
       "      <td>Albania1987</td>\n",
       "      <td>NaN</td>\n",
       "      <td>2,156,624,900</td>\n",
       "      <td>796</td>\n",
       "      <td>Generation X</td>\n",
       "    </tr>\n",
       "  </tbody>\n",
       "</table>\n",
       "</div>"
      ],
      "text/plain": [
       "   country  year     sex          age  suicides_no  population  \\\n",
       "0  Albania  1987    male  15-24 years           21      312900   \n",
       "1  Albania  1987    male  35-54 years           16      308000   \n",
       "2  Albania  1987  female  15-24 years           14      289700   \n",
       "3  Albania  1987    male    75+ years            1       21800   \n",
       "4  Albania  1987    male  25-34 years            9      274300   \n",
       "5  Albania  1987  female    75+ years            1       35600   \n",
       "6  Albania  1987  female  35-54 years            6      278800   \n",
       "7  Albania  1987  female  25-34 years            4      257200   \n",
       "8  Albania  1987    male  55-74 years            1      137500   \n",
       "9  Albania  1987  female   5-14 years            0      311000   \n",
       "\n",
       "   suicides/100k pop country-year  HDI for year  gdp_for_year ($)   \\\n",
       "0               6.71  Albania1987           NaN      2,156,624,900   \n",
       "1               5.19  Albania1987           NaN      2,156,624,900   \n",
       "2               4.83  Albania1987           NaN      2,156,624,900   \n",
       "3               4.59  Albania1987           NaN      2,156,624,900   \n",
       "4               3.28  Albania1987           NaN      2,156,624,900   \n",
       "5               2.81  Albania1987           NaN      2,156,624,900   \n",
       "6               2.15  Albania1987           NaN      2,156,624,900   \n",
       "7               1.56  Albania1987           NaN      2,156,624,900   \n",
       "8               0.73  Albania1987           NaN      2,156,624,900   \n",
       "9               0.00  Albania1987           NaN      2,156,624,900   \n",
       "\n",
       "   gdp_per_capita ($)       generation  \n",
       "0                 796     Generation X  \n",
       "1                 796           Silent  \n",
       "2                 796     Generation X  \n",
       "3                 796  G.I. Generation  \n",
       "4                 796          Boomers  \n",
       "5                 796  G.I. Generation  \n",
       "6                 796           Silent  \n",
       "7                 796          Boomers  \n",
       "8                 796  G.I. Generation  \n",
       "9                 796     Generation X  "
      ]
     },
     "metadata": {},
     "output_type": "display_data"
    }
   ],
   "source": [
    "# Importing the data and looking at it.\n",
    "df = pd.read_csv(\"master.csv\", sep=',')\n",
    "display(df.head(10))"
   ]
  },
  {
   "cell_type": "markdown",
   "metadata": {},
   "source": [
    " # 1.2 Cleaning the data\n",
    " The dataset is relatively clean, however there are a few minor cases where some data has been transcribed in the form of '-' or '--'. We will replace them with NaN, to ensure they don't corrupt any calculations that take place"
   ]
  },
  {
   "cell_type": "code",
   "execution_count": 127,
   "metadata": {},
   "outputs": [],
   "source": [
    "df=df.replace('-',np.NaN)\n",
    "df=df.replace('--',np.NaN)"
   ]
  },
  {
   "cell_type": "markdown",
   "metadata": {},
   "source": [
    "# 2. Exploring the given dataset\n",
    "Now that we have the dataset on suicide rates, we can try and explore some of the possible factors that help contribute to suicide rate. We run the pandas describe funtion just to get a general sense of what numerical data is contained in the dataframe and what ranges of values are in them. "
   ]
  },
  {
   "cell_type": "code",
   "execution_count": 128,
   "metadata": {},
   "outputs": [
    {
     "data": {
      "text/html": [
       "<div>\n",
       "<style scoped>\n",
       "    .dataframe tbody tr th:only-of-type {\n",
       "        vertical-align: middle;\n",
       "    }\n",
       "\n",
       "    .dataframe tbody tr th {\n",
       "        vertical-align: top;\n",
       "    }\n",
       "\n",
       "    .dataframe thead th {\n",
       "        text-align: right;\n",
       "    }\n",
       "</style>\n",
       "<table border=\"1\" class=\"dataframe\">\n",
       "  <thead>\n",
       "    <tr style=\"text-align: right;\">\n",
       "      <th></th>\n",
       "      <th>year</th>\n",
       "      <th>suicides_no</th>\n",
       "      <th>population</th>\n",
       "      <th>suicides/100k pop</th>\n",
       "      <th>HDI for year</th>\n",
       "      <th>gdp_per_capita ($)</th>\n",
       "    </tr>\n",
       "  </thead>\n",
       "  <tbody>\n",
       "    <tr>\n",
       "      <th>count</th>\n",
       "      <td>27820.000000</td>\n",
       "      <td>27820.000000</td>\n",
       "      <td>2.782000e+04</td>\n",
       "      <td>27820.000000</td>\n",
       "      <td>8364.000000</td>\n",
       "      <td>27820.000000</td>\n",
       "    </tr>\n",
       "    <tr>\n",
       "      <th>mean</th>\n",
       "      <td>2001.258375</td>\n",
       "      <td>242.574407</td>\n",
       "      <td>1.844794e+06</td>\n",
       "      <td>12.816097</td>\n",
       "      <td>0.776601</td>\n",
       "      <td>16866.464414</td>\n",
       "    </tr>\n",
       "    <tr>\n",
       "      <th>std</th>\n",
       "      <td>8.469055</td>\n",
       "      <td>902.047917</td>\n",
       "      <td>3.911779e+06</td>\n",
       "      <td>18.961511</td>\n",
       "      <td>0.093367</td>\n",
       "      <td>18887.576472</td>\n",
       "    </tr>\n",
       "    <tr>\n",
       "      <th>min</th>\n",
       "      <td>1985.000000</td>\n",
       "      <td>0.000000</td>\n",
       "      <td>2.780000e+02</td>\n",
       "      <td>0.000000</td>\n",
       "      <td>0.483000</td>\n",
       "      <td>251.000000</td>\n",
       "    </tr>\n",
       "    <tr>\n",
       "      <th>25%</th>\n",
       "      <td>1995.000000</td>\n",
       "      <td>3.000000</td>\n",
       "      <td>9.749850e+04</td>\n",
       "      <td>0.920000</td>\n",
       "      <td>0.713000</td>\n",
       "      <td>3447.000000</td>\n",
       "    </tr>\n",
       "    <tr>\n",
       "      <th>50%</th>\n",
       "      <td>2002.000000</td>\n",
       "      <td>25.000000</td>\n",
       "      <td>4.301500e+05</td>\n",
       "      <td>5.990000</td>\n",
       "      <td>0.779000</td>\n",
       "      <td>9372.000000</td>\n",
       "    </tr>\n",
       "    <tr>\n",
       "      <th>75%</th>\n",
       "      <td>2008.000000</td>\n",
       "      <td>131.000000</td>\n",
       "      <td>1.486143e+06</td>\n",
       "      <td>16.620000</td>\n",
       "      <td>0.855000</td>\n",
       "      <td>24874.000000</td>\n",
       "    </tr>\n",
       "    <tr>\n",
       "      <th>max</th>\n",
       "      <td>2016.000000</td>\n",
       "      <td>22338.000000</td>\n",
       "      <td>4.380521e+07</td>\n",
       "      <td>224.970000</td>\n",
       "      <td>0.944000</td>\n",
       "      <td>126352.000000</td>\n",
       "    </tr>\n",
       "  </tbody>\n",
       "</table>\n",
       "</div>"
      ],
      "text/plain": [
       "               year   suicides_no    population  suicides/100k pop  \\\n",
       "count  27820.000000  27820.000000  2.782000e+04       27820.000000   \n",
       "mean    2001.258375    242.574407  1.844794e+06          12.816097   \n",
       "std        8.469055    902.047917  3.911779e+06          18.961511   \n",
       "min     1985.000000      0.000000  2.780000e+02           0.000000   \n",
       "25%     1995.000000      3.000000  9.749850e+04           0.920000   \n",
       "50%     2002.000000     25.000000  4.301500e+05           5.990000   \n",
       "75%     2008.000000    131.000000  1.486143e+06          16.620000   \n",
       "max     2016.000000  22338.000000  4.380521e+07         224.970000   \n",
       "\n",
       "       HDI for year  gdp_per_capita ($)  \n",
       "count   8364.000000        27820.000000  \n",
       "mean       0.776601        16866.464414  \n",
       "std        0.093367        18887.576472  \n",
       "min        0.483000          251.000000  \n",
       "25%        0.713000         3447.000000  \n",
       "50%        0.779000         9372.000000  \n",
       "75%        0.855000        24874.000000  \n",
       "max        0.944000       126352.000000  "
      ]
     },
     "metadata": {},
     "output_type": "display_data"
    }
   ],
   "source": [
    "display(df.describe())"
   ]
  },
  {
   "cell_type": "markdown",
   "metadata": {},
   "source": [
    "The description gives us some prelimiary insight into the suicide rate data. It helps us get an idea of the range of years that this data covers, which is 1985-2016. It also gives us the population numbers for each of the countries involved, the suicides per 100 thousand of the population, and the <b>gdp per capita</b>. We can explore these factors further, to see their impact on the number of suicides that occur and to try and eventually be able to see which factor affects the number of suicides the most. We'll also look to explore the affect of the given <b>year</b> on suicide numbers. We also use the categorical data, like the <b> generation </b> of people, the <b>country</b> that the suicide is being reported in, the <b> sex </b>of the person and the <b> generation </b> they belong to.         "
   ]
  },
  {
   "cell_type": "markdown",
   "metadata": {},
   "source": [
    "# 2.1 Looking at suicide numbers vs years\n",
    "As per [this](https://ourworldindata.org/suicide#how-have-suicide-rates-changed) report, build from data provided by the World Health Organization suggests, suicide rates have been on the rise all over the world. To corraborate this, we've decided to look at the total number of suicides around the world(that have been reported) and plot them against the years they were reported in. "
   ]
  },
  {
   "cell_type": "markdown",
   "metadata": {},
   "source": [
    "We first group all the data by the year column"
   ]
  },
  {
   "cell_type": "code",
   "execution_count": 3,
   "metadata": {},
   "outputs": [
    {
     "data": {
      "text/html": [
       "<div>\n",
       "<style scoped>\n",
       "    .dataframe tbody tr th:only-of-type {\n",
       "        vertical-align: middle;\n",
       "    }\n",
       "\n",
       "    .dataframe tbody tr th {\n",
       "        vertical-align: top;\n",
       "    }\n",
       "\n",
       "    .dataframe thead th {\n",
       "        text-align: right;\n",
       "    }\n",
       "</style>\n",
       "<table border=\"1\" class=\"dataframe\">\n",
       "  <thead>\n",
       "    <tr style=\"text-align: right;\">\n",
       "      <th></th>\n",
       "      <th>year</th>\n",
       "      <th>suicides_no</th>\n",
       "      <th>population</th>\n",
       "      <th>suicides/100k pop</th>\n",
       "      <th>HDI for year</th>\n",
       "      <th>gdp_per_capita ($)</th>\n",
       "    </tr>\n",
       "  </thead>\n",
       "  <tbody>\n",
       "    <tr>\n",
       "      <th>0</th>\n",
       "      <td>1985</td>\n",
       "      <td>116063</td>\n",
       "      <td>1008600086</td>\n",
       "      <td>6811.89</td>\n",
       "      <td>310.428</td>\n",
       "      <td>3508548</td>\n",
       "    </tr>\n",
       "    <tr>\n",
       "      <th>1</th>\n",
       "      <td>1986</td>\n",
       "      <td>120670</td>\n",
       "      <td>1029909613</td>\n",
       "      <td>6579.84</td>\n",
       "      <td>0.000</td>\n",
       "      <td>4104636</td>\n",
       "    </tr>\n",
       "    <tr>\n",
       "      <th>2</th>\n",
       "      <td>1987</td>\n",
       "      <td>126842</td>\n",
       "      <td>1095029726</td>\n",
       "      <td>7545.45</td>\n",
       "      <td>0.000</td>\n",
       "      <td>5645760</td>\n",
       "    </tr>\n",
       "    <tr>\n",
       "      <th>3</th>\n",
       "      <td>1988</td>\n",
       "      <td>121026</td>\n",
       "      <td>1054094424</td>\n",
       "      <td>7473.13</td>\n",
       "      <td>0.000</td>\n",
       "      <td>5870508</td>\n",
       "    </tr>\n",
       "    <tr>\n",
       "      <th>4</th>\n",
       "      <td>1989</td>\n",
       "      <td>160244</td>\n",
       "      <td>1225514347</td>\n",
       "      <td>8036.54</td>\n",
       "      <td>0.000</td>\n",
       "      <td>6068424</td>\n",
       "    </tr>\n",
       "  </tbody>\n",
       "</table>\n",
       "</div>"
      ],
      "text/plain": [
       "   year  suicides_no  population  suicides/100k pop  HDI for year  \\\n",
       "0  1985       116063  1008600086            6811.89       310.428   \n",
       "1  1986       120670  1029909613            6579.84         0.000   \n",
       "2  1987       126842  1095029726            7545.45         0.000   \n",
       "3  1988       121026  1054094424            7473.13         0.000   \n",
       "4  1989       160244  1225514347            8036.54         0.000   \n",
       "\n",
       "   gdp_per_capita ($)  \n",
       "0             3508548  \n",
       "1             4104636  \n",
       "2             5645760  \n",
       "3             5870508  \n",
       "4             6068424  "
      ]
     },
     "metadata": {},
     "output_type": "display_data"
    }
   ],
   "source": [
    "a =df.groupby(['year']).sum().reset_index()\n",
    "display(a.head())"
   ]
  },
  {
   "cell_type": "markdown",
   "metadata": {},
   "source": [
    "We then plot the suicide numbers against the years they occurred in. "
   ]
  },
  {
   "cell_type": "code",
   "execution_count": 4,
   "metadata": {},
   "outputs": [
    {
     "data": {
      "text/plain": [
       "[<matplotlib.lines.Line2D at 0x7f69449f34e0>]"
      ]
     },
     "execution_count": 4,
     "metadata": {},
     "output_type": "execute_result"
    },
    {
     "data": {
      "image/png": "[encoded data removed]",
      "text/plain": [
       "<Figure size 432x288 with 1 Axes>"
      ]
     },
     "metadata": {
      "needs_background": "light"
     },
     "output_type": "display_data"
    }
   ],
   "source": [
    "plt.plot(a['year'],a['suicides_no'])"
   ]
  },
  {
   "cell_type": "markdown",
   "metadata": {},
   "source": [
    "From the graph, there is an extreme dip after the year 2015, for the year 2016. To dig some more, lets see a count of data for each column using the pandas group by "
   ]
  },
  {
   "cell_type": "code",
   "execution_count": 5,
   "metadata": {},
   "outputs": [
    {
     "data": {
      "text/html": [
       "<div>\n",
       "<style scoped>\n",
       "    .dataframe tbody tr th:only-of-type {\n",
       "        vertical-align: middle;\n",
       "    }\n",
       "\n",
       "    .dataframe tbody tr th {\n",
       "        vertical-align: top;\n",
       "    }\n",
       "\n",
       "    .dataframe thead th {\n",
       "        text-align: right;\n",
       "    }\n",
       "</style>\n",
       "<table border=\"1\" class=\"dataframe\">\n",
       "  <thead>\n",
       "    <tr style=\"text-align: right;\">\n",
       "      <th></th>\n",
       "      <th>year</th>\n",
       "      <th>country</th>\n",
       "      <th>sex</th>\n",
       "      <th>age</th>\n",
       "      <th>suicides_no</th>\n",
       "      <th>population</th>\n",
       "      <th>suicides/100k pop</th>\n",
       "      <th>country-year</th>\n",
       "      <th>HDI for year</th>\n",
       "      <th>gdp_for_year ($)</th>\n",
       "      <th>gdp_per_capita ($)</th>\n",
       "      <th>generation</th>\n",
       "    </tr>\n",
       "  </thead>\n",
       "  <tbody>\n",
       "    <tr>\n",
       "      <th>27</th>\n",
       "      <td>2012</td>\n",
       "      <td>972</td>\n",
       "      <td>972</td>\n",
       "      <td>972</td>\n",
       "      <td>972</td>\n",
       "      <td>972</td>\n",
       "      <td>972</td>\n",
       "      <td>972</td>\n",
       "      <td>936</td>\n",
       "      <td>972</td>\n",
       "      <td>972</td>\n",
       "      <td>972</td>\n",
       "    </tr>\n",
       "    <tr>\n",
       "      <th>28</th>\n",
       "      <td>2013</td>\n",
       "      <td>960</td>\n",
       "      <td>960</td>\n",
       "      <td>960</td>\n",
       "      <td>960</td>\n",
       "      <td>960</td>\n",
       "      <td>960</td>\n",
       "      <td>960</td>\n",
       "      <td>924</td>\n",
       "      <td>960</td>\n",
       "      <td>960</td>\n",
       "      <td>960</td>\n",
       "    </tr>\n",
       "    <tr>\n",
       "      <th>29</th>\n",
       "      <td>2014</td>\n",
       "      <td>936</td>\n",
       "      <td>936</td>\n",
       "      <td>936</td>\n",
       "      <td>936</td>\n",
       "      <td>936</td>\n",
       "      <td>936</td>\n",
       "      <td>936</td>\n",
       "      <td>900</td>\n",
       "      <td>936</td>\n",
       "      <td>936</td>\n",
       "      <td>936</td>\n",
       "    </tr>\n",
       "    <tr>\n",
       "      <th>30</th>\n",
       "      <td>2015</td>\n",
       "      <td>744</td>\n",
       "      <td>744</td>\n",
       "      <td>744</td>\n",
       "      <td>744</td>\n",
       "      <td>744</td>\n",
       "      <td>744</td>\n",
       "      <td>744</td>\n",
       "      <td>0</td>\n",
       "      <td>744</td>\n",
       "      <td>744</td>\n",
       "      <td>744</td>\n",
       "    </tr>\n",
       "    <tr>\n",
       "      <th>31</th>\n",
       "      <td>2016</td>\n",
       "      <td>160</td>\n",
       "      <td>160</td>\n",
       "      <td>160</td>\n",
       "      <td>160</td>\n",
       "      <td>160</td>\n",
       "      <td>160</td>\n",
       "      <td>160</td>\n",
       "      <td>0</td>\n",
       "      <td>160</td>\n",
       "      <td>160</td>\n",
       "      <td>160</td>\n",
       "    </tr>\n",
       "  </tbody>\n",
       "</table>\n",
       "</div>"
      ],
      "text/plain": [
       "    year  country  sex  age  suicides_no  population  suicides/100k pop  \\\n",
       "27  2012      972  972  972          972         972                972   \n",
       "28  2013      960  960  960          960         960                960   \n",
       "29  2014      936  936  936          936         936                936   \n",
       "30  2015      744  744  744          744         744                744   \n",
       "31  2016      160  160  160          160         160                160   \n",
       "\n",
       "    country-year  HDI for year   gdp_for_year ($)   gdp_per_capita ($)  \\\n",
       "27           972           936                 972                 972   \n",
       "28           960           924                 960                 960   \n",
       "29           936           900                 936                 936   \n",
       "30           744             0                 744                 744   \n",
       "31           160             0                 160                 160   \n",
       "\n",
       "    generation  \n",
       "27         972  \n",
       "28         960  \n",
       "29         936  \n",
       "30         744  \n",
       "31         160  "
      ]
     },
     "metadata": {},
     "output_type": "display_data"
    }
   ],
   "source": [
    "a =df.groupby(['year']).count().reset_index()\n",
    "display(a.tail())"
   ]
  },
  {
   "cell_type": "markdown",
   "metadata": {},
   "source": [
    "There is clearly some data missing for 2016, as there seems are only 170 entries for 2016, compared to the volumes for the years before. Research from the previous report contradicts that finding, so there must be some missing data. For that reason, we will omit 2016 from our observations and observe suicide data from 1985-2015 instead. \n",
    "<br>\n",
    "<br>\n",
    "Note that the HDI column also shows incosistent count values, hence we will not consider it when later analysing the factors behind suicide numbers. Also, from the [definition](https://www.investopedia.com/terms/h/human-development-index-hdi.asp) of HDI, it is calculated by looking at life expectancies. Hence, analyzing it as a factor for suicide numbers would result in falsely positive results, as suicide numbers affect the calculation of HDI. \n",
    "<br>\n",
    "<br>\n",
    "Now we'll remove the year 2016 from our data frame, then replot the graph.  "
   ]
  },
  {
   "cell_type": "code",
   "execution_count": 6,
   "metadata": {},
   "outputs": [
    {
     "data": {
      "text/plain": [
       "[<matplotlib.lines.Line2D at 0x7f6944908668>]"
      ]
     },
     "execution_count": 6,
     "metadata": {},
     "output_type": "execute_result"
    },
    {
     "data": {
      "image/png": "[encoded data removed]",
      "text/plain": [
       "<Figure size 432x288 with 1 Axes>"
      ]
     },
     "metadata": {
      "needs_background": "light"
     },
     "output_type": "display_data"
    }
   ],
   "source": [
    "is_not_2016 =  df['year']!=2016\n",
    "df = df[is_not_2016]\n",
    "a =df.groupby(['year']).sum().reset_index()\n",
    "plt.plot(a['year'],a['suicides_no'])"
   ]
  },
  {
   "cell_type": "markdown",
   "metadata": {},
   "source": [
    "The graph corroborates the before mentioned report, suggesting that suicide rates have been climbing up steadily over the given time period that we're analyzed. There's a steep rise around the 1990's interestingly, which could be a future direction of inquiry. "
   ]
  },
  {
   "cell_type": "markdown",
   "metadata": {},
   "source": [
    "# 2.2 Looking at Suicide numbers vs GDP\n",
    "There are several studies that suggest suicide rates and numbers might be influenced by economic factors. This [tutorial](https://rpubs.com/beancounter/430586) finds a relation between the economic conditions in an area and the suicide numbers. We seek to do the same, by plotting the Gross Domestic Product per capita, which is a measure of a country's economic output that controls for its number of people. We also control for population by using the suicide per 100 thousand statistic, to ensure that countries with high populations do not get unfairly represented.     "
   ]
  },
  {
   "cell_type": "code",
   "execution_count": 7,
   "metadata": {},
   "outputs": [
    {
     "data": {
      "text/plain": [
       "<matplotlib.collections.PathCollection at 0x7f69448f6cf8>"
      ]
     },
     "execution_count": 7,
     "metadata": {},
     "output_type": "execute_result"
    },
    {
     "data": {
      "image/png": "[encoded data removed]",
      "text/plain": [
       "<Figure size 432x288 with 1 Axes>"
      ]
     },
     "metadata": {
      "needs_background": "light"
     },
     "output_type": "display_data"
    }
   ],
   "source": [
    "plt.scatter(df['gdp_per_capita ($)'],df['suicides/100k pop'],c='black')"
   ]
  },
  {
   "cell_type": "markdown",
   "metadata": {},
   "source": [
    "The scatter plot confirms what we already suspect, that there is a overwhelming tendency for lower GDP per capita to correspond to having a higher rate of suicide. This raises more questions on how much of an impact the country has overall on suicide numbers, which we explore next."
   ]
  },
  {
   "cell_type": "markdown",
   "metadata": {},
   "source": [
    "# 2.3 Looking at Suicide numbers vs Country\n",
    "Based of the observations of how the GDP of a country affects suicide rate, it makes sense to transition to how much of a factor the country any subset of people resides in makes a difference to suicide rates. Based of what country a population of people is, there would be a lot of factors that apply to them, such as social customs, government rules, general standard of living, education and health levels etc. We seek to gain some insight on how the geographical area a person lives in affects the number of suicides.  \n"
   ]
  },
  {
   "cell_type": "markdown",
   "metadata": {},
   "source": [
    "We can first break down the ten countries with the highest suicide rates and compare them with a simple bar graph. We achieve that by grouping the data first by country and then sorting it by suicide numbers. "
   ]
  },
  {
   "cell_type": "code",
   "execution_count": 8,
   "metadata": {},
   "outputs": [],
   "source": [
    "groupByCountry = df.groupby(['country']).sum().reset_index()\n",
    "groupByCountry = groupByCountry.sort_values(by=['suicides_no'])"
   ]
  },
  {
   "cell_type": "markdown",
   "metadata": {},
   "source": [
    "We can then take out the last ten countries in the sorted dataframe, and then plot it using the bar graph. "
   ]
  },
  {
   "cell_type": "code",
   "execution_count": 9,
   "metadata": {},
   "outputs": [
    {
     "data": {
      "image/png": "[encoded data removed]",
      "text/plain": [
       "<Figure size 1800x360 with 1 Axes>"
      ]
     },
     "metadata": {
      "needs_background": "light"
     },
     "output_type": "display_data"
    }
   ],
   "source": [
    "groupByCountry = groupByCountry.tail(10)\n",
    "ax = groupByCountry.plot.bar(x='country',y='suicides_no', rot=0, figsize=(25,5))"
   ]
  },
  {
   "cell_type": "markdown",
   "metadata": {},
   "source": [
    "This is rather restrictive though, as we're only able to view the top 10 countries. To get a broader sense of the data and the georaphical trends underneath it, we can use the Folium library to plot a map that shows all those areas of the world with high suicide rates.  <br><br>\n",
    "To start with, we group our existing data by country and drop the extraneous information. "
   ]
  },
  {
   "cell_type": "code",
   "execution_count": 10,
   "metadata": {},
   "outputs": [],
   "source": [
    "totalSuicidesByCountry = df.groupby(['country']).sum().reset_index()\n",
    "totalSuicidesByCountry = totalSuicidesByCountry.drop(columns = ['year','population','suicides/100k pop','HDI for year','gdp_per_capita ($)'])"
   ]
  },
  {
   "cell_type": "markdown",
   "metadata": {},
   "source": [
    "We need coordinate inforation for each country, so we use a dataset from [https://www.kaggle.com/eidanch/counties-geographic-coordinates](https://www.kaggle.com/eidanch/counties-geographic-coordinates) that has a central coordinate for each country. This coordinate will help represent each country on our map. We load this into a dataframe and clean up the data to match our data's format. \n"
   ]
  },
  {
   "cell_type": "code",
   "execution_count": 11,
   "metadata": {},
   "outputs": [
    {
     "data": {
      "text/html": [
       "<div>\n",
       "<style scoped>\n",
       "    .dataframe tbody tr th:only-of-type {\n",
       "        vertical-align: middle;\n",
       "    }\n",
       "\n",
       "    .dataframe tbody tr th {\n",
       "        vertical-align: top;\n",
       "    }\n",
       "\n",
       "    .dataframe thead th {\n",
       "        text-align: right;\n",
       "    }\n",
       "</style>\n",
       "<table border=\"1\" class=\"dataframe\">\n",
       "  <thead>\n",
       "    <tr style=\"text-align: right;\">\n",
       "      <th></th>\n",
       "      <th>latitude</th>\n",
       "      <th>longitude</th>\n",
       "      <th>country</th>\n",
       "    </tr>\n",
       "  </thead>\n",
       "  <tbody>\n",
       "    <tr>\n",
       "      <th>0</th>\n",
       "      <td>42.546245</td>\n",
       "      <td>1.601554</td>\n",
       "      <td>Andorra</td>\n",
       "    </tr>\n",
       "    <tr>\n",
       "      <th>1</th>\n",
       "      <td>23.424076</td>\n",
       "      <td>53.847818</td>\n",
       "      <td>United Arab Emirates</td>\n",
       "    </tr>\n",
       "    <tr>\n",
       "      <th>2</th>\n",
       "      <td>33.939110</td>\n",
       "      <td>67.709953</td>\n",
       "      <td>Afghanistan</td>\n",
       "    </tr>\n",
       "    <tr>\n",
       "      <th>3</th>\n",
       "      <td>17.060816</td>\n",
       "      <td>-61.796428</td>\n",
       "      <td>Antigua and Barbuda</td>\n",
       "    </tr>\n",
       "    <tr>\n",
       "      <th>4</th>\n",
       "      <td>18.220554</td>\n",
       "      <td>-63.068615</td>\n",
       "      <td>Anguilla</td>\n",
       "    </tr>\n",
       "  </tbody>\n",
       "</table>\n",
       "</div>"
      ],
      "text/plain": [
       "    latitude  longitude               country\n",
       "0  42.546245   1.601554               Andorra\n",
       "1  23.424076  53.847818  United Arab Emirates\n",
       "2  33.939110  67.709953           Afghanistan\n",
       "3  17.060816 -61.796428   Antigua and Barbuda\n",
       "4  18.220554 -63.068615              Anguilla"
      ]
     },
     "metadata": {},
     "output_type": "display_data"
    }
   ],
   "source": [
    "countryLocation = pd.read_csv(\"countries.csv\", sep=',')\n",
    "countryLocation = countryLocation.drop(columns= ['country'])\n",
    "countryLocation = countryLocation.rename(columns={\"name\":\"country\"})\n",
    "display(countryLocation.head())"
   ]
  },
  {
   "cell_type": "markdown",
   "metadata": {},
   "source": [
    "Before we can plot the map based off of suicide numbers, we'll need to join the two separate dataframes into one dataframe. We can use an inner join on the country column for both dataframes. However, we'll need to standardize the country names in both so that the join represents all the countries. Looking at the data we have and the data from the link above, there are two notable differences. The data we have used the term <b>Russian Federation</b>, while the coordinate dataset uses <b>Russia</b>. Another difference is our data set using the term <b> Republic of Korea </b>, while the coordinate dataset uses <b> North and South Korea </b>. We can replace both the terms in the coordinate dataset, for the sake of the uniformity. "
   ]
  },
  {
   "cell_type": "code",
   "execution_count": 12,
   "metadata": {},
   "outputs": [
    {
     "data": {
      "text/html": [
       "<div>\n",
       "<style scoped>\n",
       "    .dataframe tbody tr th:only-of-type {\n",
       "        vertical-align: middle;\n",
       "    }\n",
       "\n",
       "    .dataframe tbody tr th {\n",
       "        vertical-align: top;\n",
       "    }\n",
       "\n",
       "    .dataframe thead th {\n",
       "        text-align: right;\n",
       "    }\n",
       "</style>\n",
       "<table border=\"1\" class=\"dataframe\">\n",
       "  <thead>\n",
       "    <tr style=\"text-align: right;\">\n",
       "      <th></th>\n",
       "      <th>latitude</th>\n",
       "      <th>longitude</th>\n",
       "      <th>country</th>\n",
       "    </tr>\n",
       "  </thead>\n",
       "  <tbody>\n",
       "    <tr>\n",
       "      <th>0</th>\n",
       "      <td>42.546245</td>\n",
       "      <td>1.601554</td>\n",
       "      <td>Andorra</td>\n",
       "    </tr>\n",
       "    <tr>\n",
       "      <th>1</th>\n",
       "      <td>23.424076</td>\n",
       "      <td>53.847818</td>\n",
       "      <td>United Arab Emirates</td>\n",
       "    </tr>\n",
       "    <tr>\n",
       "      <th>2</th>\n",
       "      <td>33.939110</td>\n",
       "      <td>67.709953</td>\n",
       "      <td>Afghanistan</td>\n",
       "    </tr>\n",
       "    <tr>\n",
       "      <th>3</th>\n",
       "      <td>17.060816</td>\n",
       "      <td>-61.796428</td>\n",
       "      <td>Antigua and Barbuda</td>\n",
       "    </tr>\n",
       "    <tr>\n",
       "      <th>4</th>\n",
       "      <td>18.220554</td>\n",
       "      <td>-63.068615</td>\n",
       "      <td>Anguilla</td>\n",
       "    </tr>\n",
       "  </tbody>\n",
       "</table>\n",
       "</div>"
      ],
      "text/plain": [
       "    latitude  longitude               country\n",
       "0  42.546245   1.601554               Andorra\n",
       "1  23.424076  53.847818  United Arab Emirates\n",
       "2  33.939110  67.709953           Afghanistan\n",
       "3  17.060816 -61.796428   Antigua and Barbuda\n",
       "4  18.220554 -63.068615              Anguilla"
      ]
     },
     "metadata": {},
     "output_type": "display_data"
    }
   ],
   "source": [
    "countryLocation=countryLocation.replace('Russia','Russian Federation')\n",
    "countryLocation=countryLocation.replace('South Korea','Republic of Korea')\n",
    "countryLocation=countryLocation.replace('North Korea','Republic of Korea')\n",
    "display(countryLocation.head())"
   ]
  },
  {
   "cell_type": "markdown",
   "metadata": {},
   "source": [
    "Now, we use the merge function to perform an inner join operation between the two dataframes. "
   ]
  },
  {
   "cell_type": "code",
   "execution_count": 13,
   "metadata": {},
   "outputs": [
    {
     "data": {
      "text/html": [
       "<div>\n",
       "<style scoped>\n",
       "    .dataframe tbody tr th:only-of-type {\n",
       "        vertical-align: middle;\n",
       "    }\n",
       "\n",
       "    .dataframe tbody tr th {\n",
       "        vertical-align: top;\n",
       "    }\n",
       "\n",
       "    .dataframe thead th {\n",
       "        text-align: right;\n",
       "    }\n",
       "</style>\n",
       "<table border=\"1\" class=\"dataframe\">\n",
       "  <thead>\n",
       "    <tr style=\"text-align: right;\">\n",
       "      <th></th>\n",
       "      <th>country</th>\n",
       "      <th>suicides_no</th>\n",
       "      <th>latitude</th>\n",
       "      <th>longitude</th>\n",
       "    </tr>\n",
       "  </thead>\n",
       "  <tbody>\n",
       "    <tr>\n",
       "      <th>0</th>\n",
       "      <td>Albania</td>\n",
       "      <td>1970</td>\n",
       "      <td>41.153332</td>\n",
       "      <td>20.168331</td>\n",
       "    </tr>\n",
       "    <tr>\n",
       "      <th>1</th>\n",
       "      <td>Antigua and Barbuda</td>\n",
       "      <td>11</td>\n",
       "      <td>17.060816</td>\n",
       "      <td>-61.796428</td>\n",
       "    </tr>\n",
       "    <tr>\n",
       "      <th>2</th>\n",
       "      <td>Argentina</td>\n",
       "      <td>82219</td>\n",
       "      <td>-38.416097</td>\n",
       "      <td>-63.616672</td>\n",
       "    </tr>\n",
       "    <tr>\n",
       "      <th>3</th>\n",
       "      <td>Armenia</td>\n",
       "      <td>1838</td>\n",
       "      <td>40.069099</td>\n",
       "      <td>45.038189</td>\n",
       "    </tr>\n",
       "    <tr>\n",
       "      <th>4</th>\n",
       "      <td>Aruba</td>\n",
       "      <td>101</td>\n",
       "      <td>12.521110</td>\n",
       "      <td>-69.968338</td>\n",
       "    </tr>\n",
       "  </tbody>\n",
       "</table>\n",
       "</div>"
      ],
      "text/plain": [
       "               country  suicides_no   latitude  longitude\n",
       "0              Albania         1970  41.153332  20.168331\n",
       "1  Antigua and Barbuda           11  17.060816 -61.796428\n",
       "2            Argentina        82219 -38.416097 -63.616672\n",
       "3              Armenia         1838  40.069099  45.038189\n",
       "4                Aruba          101  12.521110 -69.968338"
      ]
     },
     "metadata": {},
     "output_type": "display_data"
    }
   ],
   "source": [
    "totalSuicidesmerged =(pd.merge(totalSuicidesByCountry,countryLocation, on='country', how='inner'))\n",
    "display(totalSuicidesmerged.head())"
   ]
  },
  {
   "cell_type": "markdown",
   "metadata": {},
   "source": [
    "We can now plot the map using the Folium Libraries. We mark the countries with suicide rates with circles, with the radius of the circle depending on the number of suicides there. That is, bigger the circle on a country, the more the suicides. "
   ]
  },
  {
   "cell_type": "code",
   "execution_count": 14,
   "metadata": {},
   "outputs": [
    {
     "data": {
      "text/html": [
       "<div style=\"width:100%;\"><div style=\"position:relative;width:100%;height:0;padding-bottom:60%;\"><iframe src=\"data:text/html;charset=utf-8;base64,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\" style=\"position:absolute;width:100%;height:100%;left:0;top:0;border:none !important;\" allowfullscreen webkitallowfullscreen mozallowfullscreen></iframe></div></div>"
      ],
      "text/plain": [
       "<folium.folium.Map at 0x7f693d1fb550>"
      ]
     },
     "execution_count": 14,
     "metadata": {},
     "output_type": "execute_result"
    }
   ],
   "source": [
    "map = folium.Map(location=[0, 0], zoom_start=2)\n",
    "totalSuicidesmerged.apply(lambda row:folium.Circle(\n",
    "                                                radius=[row[\"suicides_no\"]], \n",
    "                                                location=[row[\"latitude\"],row[\"longitude\"]],\n",
    "                                                popup='The Waterfront',\n",
    "                                                color='blue',\n",
    "                                                fill=True,\n",
    "                                                ).add_to(map), axis=1)\n",
    "\n",
    "map"
   ]
  },
  {
   "cell_type": "markdown",
   "metadata": {},
   "source": [
    "# 2.4 Looking at Suicide numbers vs Generation.\n",
    "There are multiple articles, like this one titled ['More Millennials Are Dying 'Deaths of Despair'](https://time.com/5606411/millennials-deaths-of-despair/) that talk about some generations of people tend to have higher tendencies that lead to them being more likely to commit suicide. It's definitely an important factor to consider when trying to identify possible influences on suicde numbers for a group of people.  <br><br>\n",
    "We decide to first see the different generations that were present in the data. "
   ]
  },
  {
   "cell_type": "code",
   "execution_count": 141,
   "metadata": {},
   "outputs": [
    {
     "name": "stdout",
     "output_type": "stream",
     "text": [
      "['Generation X' 'Silent' 'G.I. Generation' 'Boomers' 'Millenials'\n",
      " 'Generation Z']\n"
     ]
    }
   ],
   "source": [
    "print(df['generation'].unique())"
   ]
  },
  {
   "cell_type": "markdown",
   "metadata": {},
   "source": [
    "From [https://genhq.com/faq-info-about-generations/](https://genhq.com/faq-info-about-generations/), the different generations are defined as follows:<br>\n",
    "1. Gen Z, iGen, or Centennials: Born 1996 – TBD\n",
    "2. Millennials or Gen Y: Born 1977 – 1995\n",
    "3. Generation X: Born 1965 – 1976\n",
    "4. Baby Boomers: Born 1946 – 1964\n",
    "5. Traditionalists or Silent Generation: Born 1945 and before\n",
    "\n",
    "<br>\n",
    "We can then group the data by generation and plot the suicides per generation. "
   ]
  },
  {
   "cell_type": "code",
   "execution_count": 15,
   "metadata": {},
   "outputs": [
    {
     "data": {
      "image/png": "[encoded data removed]",
      "text/plain": [
       "<Figure size 1080x360 with 1 Axes>"
      ]
     },
     "metadata": {
      "needs_background": "light"
     },
     "output_type": "display_data"
    }
   ],
   "source": [
    "groupByGen = df.groupby(['generation']).sum().reset_index()\n",
    "ax = groupByGen.plot.bar(x='generation', y = 'suicides_no', rot=0, figsize=(15,5))\n",
    "groupByGen = plt.xlabel('Generation',size=15)\n",
    "groupByGen = plt.ylabel('Number of Sucides', size=15)\n",
    "groupByGen = plt.title('Generation vs. Number of Suicides', size=15)\n"
   ]
  },
  {
   "cell_type": "markdown",
   "metadata": {},
   "source": [
    "The graph shows that the Boomer generation has the highest recorded numbers of suicide through this time frame, which intuitively makes sense as this time period corresponds "
   ]
  },
  {
   "cell_type": "markdown",
   "metadata": {},
   "source": [
    "We can now look at how these generations have shown trends relative to each other through the time peroiod. Plotting a line graph with each of the generations helps us visualize that. Note that we have to clean the data, as all generations don't have suicide data for every generation. The graph currently has dips that correspond to that period. \n",
    "\n",
    "To make the data simple to graph, we have now deleted the unecessary columns and used groupby to find the total number of suicides in one year for male and female. "
   ]
  },
  {
   "cell_type": "code",
   "execution_count": 16,
   "metadata": {},
   "outputs": [],
   "source": [
    "# Plot based on year(x-axis), suicide rates(y-axis), line for every generation\n",
    "genDf = df.groupby(['generation','year']).sum().reset_index()\n",
    "genDf = genDf.drop(columns=['population', 'suicides/100k pop', 'HDI for year','gdp_per_capita ($)'])"
   ]
  },
  {
   "cell_type": "markdown",
   "metadata": {},
   "source": [
    "We notice that there are many generations that reach 0.0 suicide rates however this is due to the time frames of those generations. These lines are shown as the ones that reach 0.0 number of suicide rates in the graph. Due to this, it seems some generations have no suicide rates however that is false. These data points were originally represented as NaN, however to prevent errors, we have converted them into 0.0s.\n",
    "\n",
    "We also transform the data, making all the columns as the different generations to easily graph. The last few are shown below."
   ]
  },
  {
   "cell_type": "code",
   "execution_count": 17,
   "metadata": {},
   "outputs": [
    {
     "data": {
      "text/html": [
       "<div>\n",
       "<style scoped>\n",
       "    .dataframe tbody tr th:only-of-type {\n",
       "        vertical-align: middle;\n",
       "    }\n",
       "\n",
       "    .dataframe tbody tr th {\n",
       "        vertical-align: top;\n",
       "    }\n",
       "\n",
       "    .dataframe thead tr th {\n",
       "        text-align: left;\n",
       "    }\n",
       "\n",
       "    .dataframe thead tr:last-of-type th {\n",
       "        text-align: right;\n",
       "    }\n",
       "</style>\n",
       "<table border=\"1\" class=\"dataframe\">\n",
       "  <thead>\n",
       "    <tr>\n",
       "      <th></th>\n",
       "      <th colspan=\"6\" halign=\"left\">suicides_no</th>\n",
       "    </tr>\n",
       "    <tr>\n",
       "      <th>generation</th>\n",
       "      <th>Boomers</th>\n",
       "      <th>G.I. Generation</th>\n",
       "      <th>Generation X</th>\n",
       "      <th>Generation Z</th>\n",
       "      <th>Millenials</th>\n",
       "      <th>Silent</th>\n",
       "    </tr>\n",
       "    <tr>\n",
       "      <th>year</th>\n",
       "      <th></th>\n",
       "      <th></th>\n",
       "      <th></th>\n",
       "      <th></th>\n",
       "      <th></th>\n",
       "      <th></th>\n",
       "    </tr>\n",
       "  </thead>\n",
       "  <tbody>\n",
       "    <tr>\n",
       "      <th>2011</th>\n",
       "      <td>59178.0</td>\n",
       "      <td>0.0</td>\n",
       "      <td>85345.0</td>\n",
       "      <td>1879.0</td>\n",
       "      <td>65873.0</td>\n",
       "      <td>24209.0</td>\n",
       "    </tr>\n",
       "    <tr>\n",
       "      <th>2012</th>\n",
       "      <td>58443.0</td>\n",
       "      <td>0.0</td>\n",
       "      <td>82482.0</td>\n",
       "      <td>1752.0</td>\n",
       "      <td>62905.0</td>\n",
       "      <td>24578.0</td>\n",
       "    </tr>\n",
       "    <tr>\n",
       "      <th>2013</th>\n",
       "      <td>57696.0</td>\n",
       "      <td>0.0</td>\n",
       "      <td>80227.0</td>\n",
       "      <td>1806.0</td>\n",
       "      <td>59317.0</td>\n",
       "      <td>24153.0</td>\n",
       "    </tr>\n",
       "    <tr>\n",
       "      <th>2014</th>\n",
       "      <td>57696.0</td>\n",
       "      <td>0.0</td>\n",
       "      <td>79132.0</td>\n",
       "      <td>1882.0</td>\n",
       "      <td>59409.0</td>\n",
       "      <td>24865.0</td>\n",
       "    </tr>\n",
       "    <tr>\n",
       "      <th>2015</th>\n",
       "      <td>53588.0</td>\n",
       "      <td>0.0</td>\n",
       "      <td>71298.0</td>\n",
       "      <td>1681.0</td>\n",
       "      <td>53959.0</td>\n",
       "      <td>23114.0</td>\n",
       "    </tr>\n",
       "  </tbody>\n",
       "</table>\n",
       "</div>"
      ],
      "text/plain": [
       "           suicides_no                                                       \\\n",
       "generation     Boomers G.I. Generation Generation X Generation Z Millenials   \n",
       "year                                                                          \n",
       "2011           59178.0             0.0      85345.0       1879.0    65873.0   \n",
       "2012           58443.0             0.0      82482.0       1752.0    62905.0   \n",
       "2013           57696.0             0.0      80227.0       1806.0    59317.0   \n",
       "2014           57696.0             0.0      79132.0       1882.0    59409.0   \n",
       "2015           53588.0             0.0      71298.0       1681.0    53959.0   \n",
       "\n",
       "                     \n",
       "generation   Silent  \n",
       "year                 \n",
       "2011        24209.0  \n",
       "2012        24578.0  \n",
       "2013        24153.0  \n",
       "2014        24865.0  \n",
       "2015        23114.0  "
      ]
     },
     "metadata": {},
     "output_type": "display_data"
    }
   ],
   "source": [
    "genDf = genDf.pivot(index = 'year',columns='generation')\n",
    "genDf = genDf.replace(np.NaN,0.0)\n",
    "display(genDf.tail(5))"
   ]
  },
  {
   "cell_type": "markdown",
   "metadata": {},
   "source": [
    "At this point, we have reached a line graph that represents the number of suicides happening throughout these years. Each line represents a different generation. "
   ]
  },
  {
   "cell_type": "code",
   "execution_count": 18,
   "metadata": {},
   "outputs": [
    {
     "data": {
      "image/png": "[encoded data removed]",
      "text/plain": [
       "<Figure size 1080x720 with 1 Axes>"
      ]
     },
     "metadata": {
      "needs_background": "light"
     },
     "output_type": "display_data"
    }
   ],
   "source": [
    "# Line graph\n",
    "y = genDf.plot.line()\n",
    "fig = plt.gcf()\n",
    "fig.set_size_inches(15,10)\n",
    "fig = plt.xlabel(\"Years\",size = 15)\n",
    "fig = plt.ylabel(\"Number of Suicides\",size = 15)\n",
    "fig = plt.title(\"Year vs. Number of Suicides based on Generations\", size = 15)"
   ]
  },
  {
   "cell_type": "markdown",
   "metadata": {},
   "source": [
    "# 2.5 Looking at Suicide Numbers vs Gender\n",
    "We can also analyze the proportion of suicides between the genders over the dataset. We first look at what kind of genders our data has:"
   ]
  },
  {
   "cell_type": "code",
   "execution_count": 19,
   "metadata": {},
   "outputs": [
    {
     "name": "stdout",
     "output_type": "stream",
     "text": [
      "['male' 'female']\n"
     ]
    }
   ],
   "source": [
    "print(df['sex'].unique())"
   ]
  },
  {
   "cell_type": "markdown",
   "metadata": {},
   "source": [
    "Having confirmed that there are two genders being tracked by this data, we generate a heatmap to track the data through these years. \n",
    "\n",
    "To start with, we transform our existing data and make the years as the new columns to easily graph. Each number in the graph represents the average number of suicide rates for a given year and gender. "
   ]
  },
  {
   "cell_type": "code",
   "execution_count": 20,
   "metadata": {},
   "outputs": [
    {
     "data": {
      "text/html": [
       "<div>\n",
       "<style scoped>\n",
       "    .dataframe tbody tr th:only-of-type {\n",
       "        vertical-align: middle;\n",
       "    }\n",
       "\n",
       "    .dataframe tbody tr th {\n",
       "        vertical-align: top;\n",
       "    }\n",
       "\n",
       "    .dataframe thead th {\n",
       "        text-align: right;\n",
       "    }\n",
       "</style>\n",
       "<table border=\"1\" class=\"dataframe\">\n",
       "  <thead>\n",
       "    <tr style=\"text-align: right;\">\n",
       "      <th>year</th>\n",
       "      <th>1985</th>\n",
       "      <th>1986</th>\n",
       "      <th>1987</th>\n",
       "      <th>1988</th>\n",
       "      <th>1989</th>\n",
       "      <th>1990</th>\n",
       "      <th>1991</th>\n",
       "      <th>1992</th>\n",
       "      <th>1993</th>\n",
       "      <th>1994</th>\n",
       "      <th>...</th>\n",
       "      <th>2006</th>\n",
       "      <th>2007</th>\n",
       "      <th>2008</th>\n",
       "      <th>2009</th>\n",
       "      <th>2010</th>\n",
       "      <th>2011</th>\n",
       "      <th>2012</th>\n",
       "      <th>2013</th>\n",
       "      <th>2014</th>\n",
       "      <th>2015</th>\n",
       "    </tr>\n",
       "    <tr>\n",
       "      <th>sex</th>\n",
       "      <th></th>\n",
       "      <th></th>\n",
       "      <th></th>\n",
       "      <th></th>\n",
       "      <th></th>\n",
       "      <th></th>\n",
       "      <th></th>\n",
       "      <th></th>\n",
       "      <th></th>\n",
       "      <th></th>\n",
       "      <th></th>\n",
       "      <th></th>\n",
       "      <th></th>\n",
       "      <th></th>\n",
       "      <th></th>\n",
       "      <th></th>\n",
       "      <th></th>\n",
       "      <th></th>\n",
       "      <th></th>\n",
       "      <th></th>\n",
       "      <th></th>\n",
       "    </tr>\n",
       "  </thead>\n",
       "  <tbody>\n",
       "    <tr>\n",
       "      <th>female</th>\n",
       "      <td>112.774306</td>\n",
       "      <td>117.541667</td>\n",
       "      <td>108.043210</td>\n",
       "      <td>112.295918</td>\n",
       "      <td>132.567308</td>\n",
       "      <td>130.515625</td>\n",
       "      <td>129.223958</td>\n",
       "      <td>132.223077</td>\n",
       "      <td>131.617949</td>\n",
       "      <td>126.303922</td>\n",
       "      <td>...</td>\n",
       "      <td>102.037255</td>\n",
       "      <td>103.341085</td>\n",
       "      <td>105.829412</td>\n",
       "      <td>102.846442</td>\n",
       "      <td>102.693182</td>\n",
       "      <td>105.844961</td>\n",
       "      <td>109.076132</td>\n",
       "      <td>107.206250</td>\n",
       "      <td>110.162393</td>\n",
       "      <td>127.010753</td>\n",
       "    </tr>\n",
       "    <tr>\n",
       "      <th>male</th>\n",
       "      <td>290.222222</td>\n",
       "      <td>301.451389</td>\n",
       "      <td>283.444444</td>\n",
       "      <td>299.357143</td>\n",
       "      <td>381.035256</td>\n",
       "      <td>373.028646</td>\n",
       "      <td>386.453125</td>\n",
       "      <td>410.015385</td>\n",
       "      <td>436.497436</td>\n",
       "      <td>442.477941</td>\n",
       "      <td>...</td>\n",
       "      <td>355.533333</td>\n",
       "      <td>349.000000</td>\n",
       "      <td>355.831373</td>\n",
       "      <td>353.121723</td>\n",
       "      <td>349.393939</td>\n",
       "      <td>352.457364</td>\n",
       "      <td>364.504115</td>\n",
       "      <td>357.791667</td>\n",
       "      <td>366.299145</td>\n",
       "      <td>420.408602</td>\n",
       "    </tr>\n",
       "  </tbody>\n",
       "</table>\n",
       "<p>2 rows × 31 columns</p>\n",
       "</div>"
      ],
      "text/plain": [
       "year          1985        1986        1987        1988        1989  \\\n",
       "sex                                                                  \n",
       "female  112.774306  117.541667  108.043210  112.295918  132.567308   \n",
       "male    290.222222  301.451389  283.444444  299.357143  381.035256   \n",
       "\n",
       "year          1990        1991        1992        1993        1994  ...  \\\n",
       "sex                                                                 ...   \n",
       "female  130.515625  129.223958  132.223077  131.617949  126.303922  ...   \n",
       "male    373.028646  386.453125  410.015385  436.497436  442.477941  ...   \n",
       "\n",
       "year          2006        2007        2008        2009        2010  \\\n",
       "sex                                                                  \n",
       "female  102.037255  103.341085  105.829412  102.846442  102.693182   \n",
       "male    355.533333  349.000000  355.831373  353.121723  349.393939   \n",
       "\n",
       "year          2011        2012        2013        2014        2015  \n",
       "sex                                                                 \n",
       "female  105.844961  109.076132  107.206250  110.162393  127.010753  \n",
       "male    352.457364  364.504115  357.791667  366.299145  420.408602  \n",
       "\n",
       "[2 rows x 31 columns]"
      ]
     },
     "metadata": {},
     "output_type": "display_data"
    }
   ],
   "source": [
    "# Dataframe for year vs. gender\n",
    "genderDf = pd.pivot_table(df, values='suicides_no', \n",
    "                     index=['sex'], \n",
    "                     columns='year')\n",
    "\n",
    "display(genderDf)"
   ]
  },
  {
   "cell_type": "markdown",
   "metadata": {},
   "source": [
    "With the use of these heatmaps we understand how the suicide rates has increased/decreased over the year. As shown below, total number of suicide rates for women around the world is much lower then men. Max number of suicides for both men and women are found to be during the time around 1994. The darker the color, the more the suicides have occured during that year and for that gender. "
   ]
  },
  {
   "cell_type": "code",
   "execution_count": 21,
   "metadata": {},
   "outputs": [
    {
     "data": {
      "image/png": "[encoded data removed]",
      "text/plain": [
       "<Figure size 1800x216 with 2 Axes>"
      ]
     },
     "metadata": {
      "needs_background": "light"
     },
     "output_type": "display_data"
    }
   ],
   "source": [
    "#display(x)\n",
    "fig, ax = plt.subplots(figsize=(25,3))\n",
    "ax.set_ylabel('Sex', fontsize = 20)\n",
    "ax.set_xlabel('Years', fontsize = 20)  \n",
    "y = sns.heatmap(genderDf, annot=False, cmap = 'GnBu', ax=ax)"
   ]
  },
  {
   "cell_type": "markdown",
   "metadata": {},
   "source": [
    "# 3.Trying to Predict Suicide numbers using the factors given\n",
    "Using all the trends we've seen so far, we can try to use these different factors we've observed and predict a numerical value for the number of suicides that could take place in a given subsection of people. This will be a more difficult task than most other models, as we'll be trying to use non numerical values to predict values that are numerical in nature. There is an inherent uncertainty to this act, as the categorical data we're analyzing doesn't directly map to numbers. We'll go on and try our best to handle this, and compare some different prediction models"
   ]
  },
  {
   "cell_type": "markdown",
   "metadata": {},
   "source": [
    "First, we'll map out our features, that we'll be using as independent variables and our dependent variable, which is the suicide number."
   ]
  },
  {
   "cell_type": "code",
   "execution_count": 22,
   "metadata": {},
   "outputs": [],
   "source": [
    "factors = ['country','sex','generation','gdp_per_capita ($)','year']\n",
    "features = df[factors]\n",
    "suicide = df[['suicides_no']]"
   ]
  },
  {
   "cell_type": "markdown",
   "metadata": {},
   "source": [
    "# 3.1 Using Hot Encoding\n",
    "A popular way to use categorical data to map to non numerical data is to use the hot encoding technique. In this, each catergorical column of a dataframe is split into all the possible values it can take, and 1's and 0's are used for each row to determine what the value for that row should be. An excellent example can be found [here](https://medium.com/hugo-ferreiras-blog/dealing-with-categorical-features-in-machine-learning-1bb70f07262d). <br>\n",
    "A simple example can be seen using the pandas get dummies function."
   ]
  },
  {
   "cell_type": "code",
   "execution_count": 23,
   "metadata": {},
   "outputs": [
    {
     "data": {
      "text/html": [
       "<div>\n",
       "<style scoped>\n",
       "    .dataframe tbody tr th:only-of-type {\n",
       "        vertical-align: middle;\n",
       "    }\n",
       "\n",
       "    .dataframe tbody tr th {\n",
       "        vertical-align: top;\n",
       "    }\n",
       "\n",
       "    .dataframe thead th {\n",
       "        text-align: right;\n",
       "    }\n",
       "</style>\n",
       "<table border=\"1\" class=\"dataframe\">\n",
       "  <thead>\n",
       "    <tr style=\"text-align: right;\">\n",
       "      <th></th>\n",
       "      <th>year</th>\n",
       "      <th>suicides_no</th>\n",
       "      <th>population</th>\n",
       "      <th>suicides/100k pop</th>\n",
       "      <th>HDI for year</th>\n",
       "      <th>gdp_per_capita ($)</th>\n",
       "      <th>country_Albania</th>\n",
       "      <th>country_Antigua and Barbuda</th>\n",
       "      <th>country_Argentina</th>\n",
       "      <th>country_Armenia</th>\n",
       "      <th>...</th>\n",
       "      <th>gdp_for_year ($) _99,853,528,653</th>\n",
       "      <th>gdp_for_year ($) _99,886,577,331</th>\n",
       "      <th>gdp_for_year ($) _990,374,050</th>\n",
       "      <th>gdp_for_year ($) _997,007,926</th>\n",
       "      <th>generation_Boomers</th>\n",
       "      <th>generation_G.I. Generation</th>\n",
       "      <th>generation_Generation X</th>\n",
       "      <th>generation_Generation Z</th>\n",
       "      <th>generation_Millenials</th>\n",
       "      <th>generation_Silent</th>\n",
       "    </tr>\n",
       "  </thead>\n",
       "  <tbody>\n",
       "    <tr>\n",
       "      <th>0</th>\n",
       "      <td>1987</td>\n",
       "      <td>21</td>\n",
       "      <td>312900</td>\n",
       "      <td>6.71</td>\n",
       "      <td>NaN</td>\n",
       "      <td>796</td>\n",
       "      <td>1</td>\n",
       "      <td>0</td>\n",
       "      <td>0</td>\n",
       "      <td>0</td>\n",
       "      <td>...</td>\n",
       "      <td>0</td>\n",
       "      <td>0</td>\n",
       "      <td>0</td>\n",
       "      <td>0</td>\n",
       "      <td>0</td>\n",
       "      <td>0</td>\n",
       "      <td>1</td>\n",
       "      <td>0</td>\n",
       "      <td>0</td>\n",
       "      <td>0</td>\n",
       "    </tr>\n",
       "    <tr>\n",
       "      <th>1</th>\n",
       "      <td>1987</td>\n",
       "      <td>16</td>\n",
       "      <td>308000</td>\n",
       "      <td>5.19</td>\n",
       "      <td>NaN</td>\n",
       "      <td>796</td>\n",
       "      <td>1</td>\n",
       "      <td>0</td>\n",
       "      <td>0</td>\n",
       "      <td>0</td>\n",
       "      <td>...</td>\n",
       "      <td>0</td>\n",
       "      <td>0</td>\n",
       "      <td>0</td>\n",
       "      <td>0</td>\n",
       "      <td>0</td>\n",
       "      <td>0</td>\n",
       "      <td>0</td>\n",
       "      <td>0</td>\n",
       "      <td>0</td>\n",
       "      <td>1</td>\n",
       "    </tr>\n",
       "    <tr>\n",
       "      <th>2</th>\n",
       "      <td>1987</td>\n",
       "      <td>14</td>\n",
       "      <td>289700</td>\n",
       "      <td>4.83</td>\n",
       "      <td>NaN</td>\n",
       "      <td>796</td>\n",
       "      <td>1</td>\n",
       "      <td>0</td>\n",
       "      <td>0</td>\n",
       "      <td>0</td>\n",
       "      <td>...</td>\n",
       "      <td>0</td>\n",
       "      <td>0</td>\n",
       "      <td>0</td>\n",
       "      <td>0</td>\n",
       "      <td>0</td>\n",
       "      <td>0</td>\n",
       "      <td>1</td>\n",
       "      <td>0</td>\n",
       "      <td>0</td>\n",
       "      <td>0</td>\n",
       "    </tr>\n",
       "    <tr>\n",
       "      <th>3</th>\n",
       "      <td>1987</td>\n",
       "      <td>1</td>\n",
       "      <td>21800</td>\n",
       "      <td>4.59</td>\n",
       "      <td>NaN</td>\n",
       "      <td>796</td>\n",
       "      <td>1</td>\n",
       "      <td>0</td>\n",
       "      <td>0</td>\n",
       "      <td>0</td>\n",
       "      <td>...</td>\n",
       "      <td>0</td>\n",
       "      <td>0</td>\n",
       "      <td>0</td>\n",
       "      <td>0</td>\n",
       "      <td>0</td>\n",
       "      <td>1</td>\n",
       "      <td>0</td>\n",
       "      <td>0</td>\n",
       "      <td>0</td>\n",
       "      <td>0</td>\n",
       "    </tr>\n",
       "    <tr>\n",
       "      <th>4</th>\n",
       "      <td>1987</td>\n",
       "      <td>9</td>\n",
       "      <td>274300</td>\n",
       "      <td>3.28</td>\n",
       "      <td>NaN</td>\n",
       "      <td>796</td>\n",
       "      <td>1</td>\n",
       "      <td>0</td>\n",
       "      <td>0</td>\n",
       "      <td>0</td>\n",
       "      <td>...</td>\n",
       "      <td>0</td>\n",
       "      <td>0</td>\n",
       "      <td>0</td>\n",
       "      <td>0</td>\n",
       "      <td>1</td>\n",
       "      <td>0</td>\n",
       "      <td>0</td>\n",
       "      <td>0</td>\n",
       "      <td>0</td>\n",
       "      <td>0</td>\n",
       "    </tr>\n",
       "  </tbody>\n",
       "</table>\n",
       "<p>5 rows × 4730 columns</p>\n",
       "</div>"
      ],
      "text/plain": [
       "   year  suicides_no  population  suicides/100k pop  HDI for year  \\\n",
       "0  1987           21      312900               6.71           NaN   \n",
       "1  1987           16      308000               5.19           NaN   \n",
       "2  1987           14      289700               4.83           NaN   \n",
       "3  1987            1       21800               4.59           NaN   \n",
       "4  1987            9      274300               3.28           NaN   \n",
       "\n",
       "   gdp_per_capita ($)  country_Albania  country_Antigua and Barbuda  \\\n",
       "0                 796                1                            0   \n",
       "1                 796                1                            0   \n",
       "2                 796                1                            0   \n",
       "3                 796                1                            0   \n",
       "4                 796                1                            0   \n",
       "\n",
       "   country_Argentina  country_Armenia  ...   gdp_for_year ($) _99,853,528,653  \\\n",
       "0                  0                0  ...                                  0   \n",
       "1                  0                0  ...                                  0   \n",
       "2                  0                0  ...                                  0   \n",
       "3                  0                0  ...                                  0   \n",
       "4                  0                0  ...                                  0   \n",
       "\n",
       "    gdp_for_year ($) _99,886,577,331   gdp_for_year ($) _990,374,050  \\\n",
       "0                                  0                               0   \n",
       "1                                  0                               0   \n",
       "2                                  0                               0   \n",
       "3                                  0                               0   \n",
       "4                                  0                               0   \n",
       "\n",
       "    gdp_for_year ($) _997,007,926  generation_Boomers  \\\n",
       "0                               0                   0   \n",
       "1                               0                   0   \n",
       "2                               0                   0   \n",
       "3                               0                   0   \n",
       "4                               0                   1   \n",
       "\n",
       "   generation_G.I. Generation  generation_Generation X  \\\n",
       "0                           0                        1   \n",
       "1                           0                        0   \n",
       "2                           0                        1   \n",
       "3                           1                        0   \n",
       "4                           0                        0   \n",
       "\n",
       "   generation_Generation Z  generation_Millenials  generation_Silent  \n",
       "0                        0                      0                  0  \n",
       "1                        0                      0                  1  \n",
       "2                        0                      0                  0  \n",
       "3                        0                      0                  0  \n",
       "4                        0                      0                  0  \n",
       "\n",
       "[5 rows x 4730 columns]"
      ]
     },
     "metadata": {},
     "output_type": "display_data"
    }
   ],
   "source": [
    "tmp=df.copy()\n",
    "tmp = pd.get_dummies(tmp)\n",
    "display(tmp.head())"
   ]
  },
  {
   "cell_type": "markdown",
   "metadata": {},
   "source": [
    "As you can see, each categorical variable has been stretched out into all of it's possible values\n",
    "Now, we can use the OneHotEncoder funtion from sklearn to create a hot encoder for us from our data. \n",
    "For more information: The sklearn [docs](https://scikit-learn.org/stable/modules/generated/sklearn.preprocessing.OneHotEncoder.html) are helpful."
   ]
  },
  {
   "cell_type": "code",
   "execution_count": 24,
   "metadata": {},
   "outputs": [
    {
     "data": {
      "text/plain": [
       "array([[1., 0., 0., ..., 0., 0., 0.],\n",
       "       [1., 0., 0., ..., 0., 0., 0.],\n",
       "       [1., 0., 0., ..., 0., 0., 0.],\n",
       "       ...,\n",
       "       [0., 0., 0., ..., 0., 1., 0.],\n",
       "       [0., 0., 0., ..., 0., 1., 0.],\n",
       "       [0., 0., 0., ..., 0., 1., 0.]])"
      ]
     },
     "metadata": {},
     "output_type": "display_data"
    }
   ],
   "source": [
    "enc = OneHotEncoder(sparse=False)\n",
    "X_hot_encode = enc.fit_transform(features)\n",
    "display(X_hot_encode)"
   ]
  },
  {
   "cell_type": "markdown",
   "metadata": {},
   "source": [
    "X_hot_encode is now a feature variable generated by using the hot encoder\n",
    "<br><br>\n",
    "# 3.2 Converting each categorical value to a number\n",
    "Another approach to the problem of trying to use categorical values to predict numerical ones is converting each categorical value to an independent number. This is explained better [here](https://pythonprogramming.net/working-with-non-numerical-data-machine-learning-tutorial/), but the basic idea is that The idea is to basically give each category of the variable a unique identifier and map every instance with that specific identifier. The code below does exactly that by using this function that generates a unuque hash for every value in a column it sees that is not numerical."
   ]
  },
  {
   "cell_type": "code",
   "execution_count": 25,
   "metadata": {},
   "outputs": [
    {
     "ename": "TypeError",
     "evalue": "'Map' object is not callable",
     "output_type": "error",
     "traceback": [
      "\u001b[0;31m---------------------------------------------------------------------------\u001b[0m",
      "\u001b[0;31mTypeError\u001b[0m                                 Traceback (most recent call last)",
      "\u001b[0;32m<ipython-input-25-243a6992c6bb>\u001b[0m in \u001b[0;36m<module>\u001b[0;34m\u001b[0m\n\u001b[1;32m     19\u001b[0m     \u001b[0;32mreturn\u001b[0m \u001b[0mdf\u001b[0m\u001b[0;34m\u001b[0m\u001b[0;34m\u001b[0m\u001b[0m\n\u001b[1;32m     20\u001b[0m \u001b[0mnewdf\u001b[0m \u001b[0;34m=\u001b[0m \u001b[0mdf\u001b[0m\u001b[0;34m.\u001b[0m\u001b[0mcopy\u001b[0m\u001b[0;34m(\u001b[0m\u001b[0;34m)\u001b[0m\u001b[0;34m\u001b[0m\u001b[0;34m\u001b[0m\u001b[0m\n\u001b[0;32m---> 21\u001b[0;31m \u001b[0mnewdf\u001b[0m \u001b[0;34m=\u001b[0m \u001b[0mhandle_non_numerical_data\u001b[0m\u001b[0;34m(\u001b[0m\u001b[0mnewdf\u001b[0m\u001b[0;34m)\u001b[0m\u001b[0;34m\u001b[0m\u001b[0;34m\u001b[0m\u001b[0m\n\u001b[0m\u001b[1;32m     22\u001b[0m \u001b[0mdisplay\u001b[0m\u001b[0;34m(\u001b[0m\u001b[0mnewdf\u001b[0m\u001b[0;34m.\u001b[0m\u001b[0mhead\u001b[0m\u001b[0;34m(\u001b[0m\u001b[0;34m)\u001b[0m\u001b[0;34m)\u001b[0m\u001b[0;34m\u001b[0m\u001b[0;34m\u001b[0m\u001b[0m\n\u001b[1;32m     23\u001b[0m \u001b[0mfeatures2\u001b[0m \u001b[0;34m=\u001b[0m \u001b[0mnewdf\u001b[0m\u001b[0;34m[\u001b[0m\u001b[0mfactors\u001b[0m\u001b[0;34m]\u001b[0m\u001b[0;34m\u001b[0m\u001b[0;34m\u001b[0m\u001b[0m\n",
      "\u001b[0;32m<ipython-input-25-243a6992c6bb>\u001b[0m in \u001b[0;36mhandle_non_numerical_data\u001b[0;34m(df)\u001b[0m\n\u001b[1;32m     15\u001b[0m                     \u001b[0mx\u001b[0m\u001b[0;34m+=\u001b[0m\u001b[0;36m1\u001b[0m\u001b[0;34m\u001b[0m\u001b[0;34m\u001b[0m\u001b[0m\n\u001b[1;32m     16\u001b[0m \u001b[0;34m\u001b[0m\u001b[0m\n\u001b[0;32m---> 17\u001b[0;31m             \u001b[0mdf\u001b[0m\u001b[0;34m[\u001b[0m\u001b[0mcolumn\u001b[0m\u001b[0;34m]\u001b[0m \u001b[0;34m=\u001b[0m \u001b[0mlist\u001b[0m\u001b[0;34m(\u001b[0m\u001b[0mmap\u001b[0m\u001b[0;34m(\u001b[0m\u001b[0mconvert_to_int\u001b[0m\u001b[0;34m,\u001b[0m \u001b[0mdf\u001b[0m\u001b[0;34m[\u001b[0m\u001b[0mcolumn\u001b[0m\u001b[0;34m]\u001b[0m\u001b[0;34m)\u001b[0m\u001b[0;34m)\u001b[0m\u001b[0;34m\u001b[0m\u001b[0;34m\u001b[0m\u001b[0m\n\u001b[0m\u001b[1;32m     18\u001b[0m \u001b[0;34m\u001b[0m\u001b[0m\n\u001b[1;32m     19\u001b[0m     \u001b[0;32mreturn\u001b[0m \u001b[0mdf\u001b[0m\u001b[0;34m\u001b[0m\u001b[0;34m\u001b[0m\u001b[0m\n",
      "\u001b[0;31mTypeError\u001b[0m: 'Map' object is not callable"
     ]
    }
   ],
   "source": [
    "def handle_non_numerical_data(df):\n",
    "    columns = df.columns.values\n",
    "    for column in columns:\n",
    "        text_digit_vals = {}\n",
    "        def convert_to_int(val):\n",
    "            return text_digit_vals[val]\n",
    "\n",
    "        if df[column].dtype != np.int64 and df[column].dtype != np.float64:\n",
    "            column_contents = df[column].values.tolist()\n",
    "            unique_elements = set(column_contents)\n",
    "            x = 0\n",
    "            for unique in unique_elements:\n",
    "                if unique not in text_digit_vals:\n",
    "                    text_digit_vals[unique] = x\n",
    "                    x+=1\n",
    "\n",
    "            df[column] = list(map(convert_to_int, df[column]))\n",
    "\n",
    "    return df\n",
    "newdf = df.copy()\n",
    "newdf = handle_non_numerical_data(newdf)\n",
    "display(newdf.head())\n",
    "features2 = newdf[factors]\n",
    "suicide2 = newdf[['suicides_no']]"
   ]
  },
  {
   "cell_type": "markdown",
   "metadata": {},
   "source": [
    "As can be seen, the above dataframe now has numbers for all of its categorical variables. \n",
    "<br><br>\n",
    "# 3.3 Using Random Forests Regression \n",
    "We'll first use Random forests to try and predict the number of suicides given all the other factors for a certain set of people. Random forests regression is based off of the idea of generating multiple decision trees and using all of them to guess the output. For more information, read [here](https://medium.com/datadriveninvestor/random-forest-regression-9871bc9a25eb). \n",
    "<br><br>\n",
    "We'll first use a random forests regression with the method of converting each categorical value to a number. We fit the model to the features and output from the newdf dataframe that we just defined and then compute the R^2 score for the model"
   ]
  },
  {
   "cell_type": "code",
   "execution_count": 153,
   "metadata": {},
   "outputs": [
    {
     "ename": "NameError",
     "evalue": "name 'features2' is not defined",
     "output_type": "error",
     "traceback": [
      "\u001b[0;31m---------------------------------------------------------------------------\u001b[0m",
      "\u001b[0;31mNameError\u001b[0m                                 Traceback (most recent call last)",
      "\u001b[0;32m<ipython-input-153-7fbbc4a83a38>\u001b[0m in \u001b[0;36m<module>\u001b[0;34m\u001b[0m\n\u001b[0;32m----> 1\u001b[0;31m \u001b[0mX\u001b[0m \u001b[0;34m=\u001b[0m \u001b[0mfeatures2\u001b[0m\u001b[0;34m\u001b[0m\u001b[0;34m\u001b[0m\u001b[0m\n\u001b[0m\u001b[1;32m      2\u001b[0m \u001b[0my\u001b[0m \u001b[0;34m=\u001b[0m \u001b[0msuicide2\u001b[0m\u001b[0;34m\u001b[0m\u001b[0;34m\u001b[0m\u001b[0m\n\u001b[1;32m      3\u001b[0m \u001b[0mregr\u001b[0m \u001b[0;34m=\u001b[0m \u001b[0mRandomForestRegressor\u001b[0m\u001b[0;34m(\u001b[0m\u001b[0mmax_depth\u001b[0m\u001b[0;34m=\u001b[0m\u001b[0;36m2\u001b[0m\u001b[0;34m,\u001b[0m \u001b[0mrandom_state\u001b[0m\u001b[0;34m=\u001b[0m\u001b[0;36m0\u001b[0m\u001b[0;34m)\u001b[0m\u001b[0;34m\u001b[0m\u001b[0;34m\u001b[0m\u001b[0m\n\u001b[1;32m      4\u001b[0m \u001b[0mregr\u001b[0m\u001b[0;34m.\u001b[0m\u001b[0mfit\u001b[0m\u001b[0;34m(\u001b[0m\u001b[0mX\u001b[0m\u001b[0;34m,\u001b[0m\u001b[0my\u001b[0m\u001b[0;34m)\u001b[0m\u001b[0;34m\u001b[0m\u001b[0;34m\u001b[0m\u001b[0m\n\u001b[1;32m      5\u001b[0m \u001b[0mprint\u001b[0m\u001b[0;34m(\u001b[0m\u001b[0mregr\u001b[0m\u001b[0;34m.\u001b[0m\u001b[0mscore\u001b[0m\u001b[0;34m(\u001b[0m\u001b[0mX\u001b[0m\u001b[0;34m,\u001b[0m\u001b[0my\u001b[0m\u001b[0;34m)\u001b[0m\u001b[0;34m)\u001b[0m\u001b[0;34m\u001b[0m\u001b[0;34m\u001b[0m\u001b[0m\n",
      "\u001b[0;31mNameError\u001b[0m: name 'features2' is not defined"
     ]
    }
   ],
   "source": [
    "X = features2\n",
    "y = suicide2\n",
    "regr = RandomForestRegressor(max_depth=2, random_state=0)\n",
    "regr.fit(X,y)\n",
    "print(regr.score(X,y))"
   ]
  },
  {
   "cell_type": "markdown",
   "metadata": {},
   "source": [
    "The R^2 score can go up to a maximum of 1, where 1 is the most accurate. This model isn't performing very well unfortunately. To confirm that, we can create a graph to model the predicted values of the graph against the actual value. <br>\n",
    "We first split our data into training and test sets"
   ]
  },
  {
   "cell_type": "code",
   "execution_count": 26,
   "metadata": {},
   "outputs": [
    {
     "ename": "NameError",
     "evalue": "name 'X' is not defined",
     "output_type": "error",
     "traceback": [
      "\u001b[0;31m---------------------------------------------------------------------------\u001b[0m",
      "\u001b[0;31mNameError\u001b[0m                                 Traceback (most recent call last)",
      "\u001b[0;32m<ipython-input-26-16c5142f2f5d>\u001b[0m in \u001b[0;36m<module>\u001b[0;34m\u001b[0m\n\u001b[0;32m----> 1\u001b[0;31m \u001b[0mX_train\u001b[0m\u001b[0;34m,\u001b[0m \u001b[0mX_test\u001b[0m\u001b[0;34m,\u001b[0m \u001b[0my_train\u001b[0m\u001b[0;34m,\u001b[0m \u001b[0my_test\u001b[0m \u001b[0;34m=\u001b[0m \u001b[0mmodel_selection\u001b[0m\u001b[0;34m.\u001b[0m\u001b[0mtrain_test_split\u001b[0m\u001b[0;34m(\u001b[0m\u001b[0mX\u001b[0m\u001b[0;34m,\u001b[0m \u001b[0msuicide\u001b[0m\u001b[0;34m,\u001b[0m \u001b[0mtest_size\u001b[0m\u001b[0;34m=\u001b[0m\u001b[0;36m0.2\u001b[0m\u001b[0;34m)\u001b[0m\u001b[0;34m\u001b[0m\u001b[0;34m\u001b[0m\u001b[0m\n\u001b[0m",
      "\u001b[0;31mNameError\u001b[0m: name 'X' is not defined"
     ]
    }
   ],
   "source": [
    "X_train, X_test, y_train, y_test = model_selection.train_test_split(X, suicide, test_size=0.2)"
   ]
  },
  {
   "cell_type": "markdown",
   "metadata": {},
   "source": [
    "We then create the model and train it"
   ]
  },
  {
   "cell_type": "code",
   "execution_count": 118,
   "metadata": {},
   "outputs": [
    {
     "ename": "NameError",
     "evalue": "name 'RandomForestRegressor' is not defined",
     "output_type": "error",
     "traceback": [
      "\u001b[0;31m---------------------------------------------------------------------------\u001b[0m",
      "\u001b[0;31mNameError\u001b[0m                                 Traceback (most recent call last)",
      "\u001b[0;32m<ipython-input-118-56481ce7fb8f>\u001b[0m in \u001b[0;36m<module>\u001b[0;34m\u001b[0m\n\u001b[0;32m----> 1\u001b[0;31m \u001b[0mregr\u001b[0m \u001b[0;34m=\u001b[0m \u001b[0mRandomForestRegressor\u001b[0m\u001b[0;34m(\u001b[0m\u001b[0mmax_depth\u001b[0m\u001b[0;34m=\u001b[0m\u001b[0;36m2\u001b[0m\u001b[0;34m,\u001b[0m \u001b[0mrandom_state\u001b[0m\u001b[0;34m=\u001b[0m\u001b[0;36m0\u001b[0m\u001b[0;34m)\u001b[0m\u001b[0;34m\u001b[0m\u001b[0;34m\u001b[0m\u001b[0m\n\u001b[0m\u001b[1;32m      2\u001b[0m \u001b[0mmodel\u001b[0m \u001b[0;34m=\u001b[0m \u001b[0mregr\u001b[0m\u001b[0;34m.\u001b[0m\u001b[0mfit\u001b[0m\u001b[0;34m(\u001b[0m\u001b[0mX_train\u001b[0m\u001b[0;34m,\u001b[0m \u001b[0my_train\u001b[0m\u001b[0;34m)\u001b[0m\u001b[0;34m\u001b[0m\u001b[0;34m\u001b[0m\u001b[0m\n",
      "\u001b[0;31mNameError\u001b[0m: name 'RandomForestRegressor' is not defined"
     ]
    }
   ],
   "source": [
    "regr = RandomForestRegressor(max_depth=2, random_state=0)\n",
    "model = regr.fit(X_train, y_train)"
   ]
  },
  {
   "cell_type": "markdown",
   "metadata": {},
   "source": [
    "We then generate predictions for the test set, that'll later be compared."
   ]
  },
  {
   "cell_type": "code",
   "execution_count": 119,
   "metadata": {},
   "outputs": [
    {
     "ename": "NameError",
     "evalue": "name 'regr' is not defined",
     "output_type": "error",
     "traceback": [
      "\u001b[0;31m---------------------------------------------------------------------------\u001b[0m",
      "\u001b[0;31mNameError\u001b[0m                                 Traceback (most recent call last)",
      "\u001b[0;32m<ipython-input-119-8147df1ce667>\u001b[0m in \u001b[0;36m<module>\u001b[0;34m\u001b[0m\n\u001b[0;32m----> 1\u001b[0;31m \u001b[0mpredictions\u001b[0m \u001b[0;34m=\u001b[0m \u001b[0mregr\u001b[0m\u001b[0;34m.\u001b[0m\u001b[0mpredict\u001b[0m\u001b[0;34m(\u001b[0m\u001b[0mX_test\u001b[0m\u001b[0;34m)\u001b[0m\u001b[0;34m\u001b[0m\u001b[0;34m\u001b[0m\u001b[0m\n\u001b[0m",
      "\u001b[0;31mNameError\u001b[0m: name 'regr' is not defined"
     ]
    }
   ],
   "source": [
    "predictions = regr.predict(X_test)"
   ]
  },
  {
   "cell_type": "markdown",
   "metadata": {},
   "source": [
    "Finally, we plot the predictions against the actual values."
   ]
  },
  {
   "cell_type": "code",
   "execution_count": 120,
   "metadata": {},
   "outputs": [
    {
     "ename": "NameError",
     "evalue": "name 'y_test' is not defined",
     "output_type": "error",
     "traceback": [
      "\u001b[0;31m---------------------------------------------------------------------------\u001b[0m",
      "\u001b[0;31mNameError\u001b[0m                                 Traceback (most recent call last)",
      "\u001b[0;32m<ipython-input-120-7f183931e101>\u001b[0m in \u001b[0;36m<module>\u001b[0;34m\u001b[0m\n\u001b[1;32m      1\u001b[0m \u001b[0mplt\u001b[0m\u001b[0;34m.\u001b[0m\u001b[0mfigure\u001b[0m\u001b[0;34m(\u001b[0m\u001b[0mfigsize\u001b[0m\u001b[0;34m=\u001b[0m\u001b[0;34m(\u001b[0m\u001b[0;36m8\u001b[0m\u001b[0;34m,\u001b[0m\u001b[0;36m8\u001b[0m\u001b[0;34m)\u001b[0m\u001b[0;34m)\u001b[0m\u001b[0;34m\u001b[0m\u001b[0;34m\u001b[0m\u001b[0m\n\u001b[1;32m      2\u001b[0m \u001b[0mplt\u001b[0m\u001b[0;34m.\u001b[0m\u001b[0mtitle\u001b[0m\u001b[0;34m(\u001b[0m\u001b[0;34m\"Predicted vs. Actual Values for Suicide numbers\"\u001b[0m\u001b[0;34m,\u001b[0m \u001b[0mfontsize\u001b[0m\u001b[0;34m=\u001b[0m\u001b[0;36m16\u001b[0m\u001b[0;34m)\u001b[0m\u001b[0;34m\u001b[0m\u001b[0;34m\u001b[0m\u001b[0m\n\u001b[0;32m----> 3\u001b[0;31m \u001b[0mplt\u001b[0m\u001b[0;34m.\u001b[0m\u001b[0mscatter\u001b[0m\u001b[0;34m(\u001b[0m\u001b[0my_test\u001b[0m\u001b[0;34m,\u001b[0m\u001b[0mpredictions\u001b[0m\u001b[0;34m)\u001b[0m\u001b[0;34m\u001b[0m\u001b[0;34m\u001b[0m\u001b[0m\n\u001b[0m\u001b[1;32m      4\u001b[0m \u001b[0mplt\u001b[0m\u001b[0;34m.\u001b[0m\u001b[0mplot\u001b[0m\u001b[0;34m(\u001b[0m\u001b[0my_test\u001b[0m\u001b[0;34m,\u001b[0m \u001b[0my_test\u001b[0m\u001b[0;34m,\u001b[0m \u001b[0mcolor\u001b[0m\u001b[0;34m=\u001b[0m\u001b[0;34m\"Red\"\u001b[0m\u001b[0;34m)\u001b[0m\u001b[0;34m\u001b[0m\u001b[0;34m\u001b[0m\u001b[0m\n\u001b[1;32m      5\u001b[0m \u001b[0mplt\u001b[0m\u001b[0;34m.\u001b[0m\u001b[0mxlabel\u001b[0m\u001b[0;34m(\u001b[0m\u001b[0;34m\"Actual Values\"\u001b[0m\u001b[0;34m)\u001b[0m\u001b[0;34m\u001b[0m\u001b[0;34m\u001b[0m\u001b[0m\n",
      "\u001b[0;31mNameError\u001b[0m: name 'y_test' is not defined"
     ]
    },
    {
     "data": {
      "image/png": "[encoded data removed]",
      "text/plain": [
       "<Figure size 576x576 with 1 Axes>"
      ]
     },
     "metadata": {
      "needs_background": "light"
     },
     "output_type": "display_data"
    }
   ],
   "source": [
    "plt.figure(figsize=(8,8))\n",
    "plt.title(\"Predicted vs. Actual Values for Suicide numbers\", fontsize=16)\n",
    "plt.scatter(y_test,predictions)\n",
    "plt.plot(y_test, y_test, color=\"Red\") \n",
    "plt.xlabel(\"Actual Values\")\n",
    "plt.ylabel(\"Predicted Values\")\n",
    "plt.show()"
   ]
  },
  {
   "cell_type": "markdown",
   "metadata": {},
   "source": [
    "We then carry out the exact same process, but this time our feature set will be the X_hot_encode set, that we created using hot encode."
   ]
  },
  {
   "cell_type": "code",
   "execution_count": 121,
   "metadata": {},
   "outputs": [
    {
     "ename": "NameError",
     "evalue": "name 'RandomForestRegressor' is not defined",
     "output_type": "error",
     "traceback": [
      "\u001b[0;31m---------------------------------------------------------------------------\u001b[0m",
      "\u001b[0;31mNameError\u001b[0m                                 Traceback (most recent call last)",
      "\u001b[0;32m<ipython-input-121-b19983c648bb>\u001b[0m in \u001b[0;36m<module>\u001b[0;34m\u001b[0m\n\u001b[0;32m----> 1\u001b[0;31m \u001b[0mregr\u001b[0m \u001b[0;34m=\u001b[0m \u001b[0mRandomForestRegressor\u001b[0m\u001b[0;34m(\u001b[0m\u001b[0mmax_depth\u001b[0m\u001b[0;34m=\u001b[0m\u001b[0;36m2\u001b[0m\u001b[0;34m,\u001b[0m \u001b[0mrandom_state\u001b[0m\u001b[0;34m=\u001b[0m\u001b[0;36m0\u001b[0m\u001b[0;34m)\u001b[0m\u001b[0;34m\u001b[0m\u001b[0;34m\u001b[0m\u001b[0m\n\u001b[0m\u001b[1;32m      2\u001b[0m \u001b[0mregr\u001b[0m\u001b[0;34m.\u001b[0m\u001b[0mfit\u001b[0m\u001b[0;34m(\u001b[0m\u001b[0mX_hot_encode\u001b[0m\u001b[0;34m,\u001b[0m\u001b[0my\u001b[0m\u001b[0;34m)\u001b[0m\u001b[0;34m\u001b[0m\u001b[0;34m\u001b[0m\u001b[0m\n\u001b[1;32m      3\u001b[0m \u001b[0mprint\u001b[0m\u001b[0;34m(\u001b[0m\u001b[0mregr\u001b[0m\u001b[0;34m.\u001b[0m\u001b[0mscore\u001b[0m\u001b[0;34m(\u001b[0m\u001b[0mX_hot_encode\u001b[0m\u001b[0;34m,\u001b[0m\u001b[0my\u001b[0m\u001b[0;34m)\u001b[0m\u001b[0;34m)\u001b[0m\u001b[0;34m\u001b[0m\u001b[0;34m\u001b[0m\u001b[0m\n",
      "\u001b[0;31mNameError\u001b[0m: name 'RandomForestRegressor' is not defined"
     ]
    }
   ],
   "source": [
    "regr = RandomForestRegressor(max_depth=2, random_state=0)\n",
    "regr.fit(X_hot_encode,y)\n",
    "print(regr.score(X_hot_encode,y))"
   ]
  },
  {
   "cell_type": "markdown",
   "metadata": {},
   "source": [
    "This is performing better than the model above, suggesting that using the hot encoding is a better idea. We can now plot the predicted vs expected values, as we did before."
   ]
  },
  {
   "cell_type": "code",
   "execution_count": 122,
   "metadata": {},
   "outputs": [
    {
     "ename": "NameError",
     "evalue": "name 'model_selection' is not defined",
     "output_type": "error",
     "traceback": [
      "\u001b[0;31m---------------------------------------------------------------------------\u001b[0m",
      "\u001b[0;31mNameError\u001b[0m                                 Traceback (most recent call last)",
      "\u001b[0;32m<ipython-input-122-94fdc7001c7f>\u001b[0m in \u001b[0;36m<module>\u001b[0;34m\u001b[0m\n\u001b[0;32m----> 1\u001b[0;31m \u001b[0mX_train\u001b[0m\u001b[0;34m,\u001b[0m \u001b[0mX_test\u001b[0m\u001b[0;34m,\u001b[0m \u001b[0my_train\u001b[0m\u001b[0;34m,\u001b[0m \u001b[0my_test\u001b[0m \u001b[0;34m=\u001b[0m \u001b[0mmodel_selection\u001b[0m\u001b[0;34m.\u001b[0m\u001b[0mtrain_test_split\u001b[0m\u001b[0;34m(\u001b[0m\u001b[0mX_hot_encode\u001b[0m\u001b[0;34m,\u001b[0m \u001b[0msuicide\u001b[0m\u001b[0;34m,\u001b[0m \u001b[0mtest_size\u001b[0m\u001b[0;34m=\u001b[0m\u001b[0;36m0.2\u001b[0m\u001b[0;34m)\u001b[0m\u001b[0;34m\u001b[0m\u001b[0;34m\u001b[0m\u001b[0m\n\u001b[0m\u001b[1;32m      2\u001b[0m \u001b[0;34m\u001b[0m\u001b[0m\n\u001b[1;32m      3\u001b[0m \u001b[0mregr\u001b[0m \u001b[0;34m=\u001b[0m \u001b[0mRandomForestRegressor\u001b[0m\u001b[0;34m(\u001b[0m\u001b[0mmax_depth\u001b[0m\u001b[0;34m=\u001b[0m\u001b[0;36m2\u001b[0m\u001b[0;34m,\u001b[0m \u001b[0mrandom_state\u001b[0m\u001b[0;34m=\u001b[0m\u001b[0;36m0\u001b[0m\u001b[0;34m)\u001b[0m\u001b[0;34m\u001b[0m\u001b[0;34m\u001b[0m\u001b[0m\n\u001b[1;32m      4\u001b[0m \u001b[0mmodel\u001b[0m \u001b[0;34m=\u001b[0m \u001b[0mregr\u001b[0m\u001b[0;34m.\u001b[0m\u001b[0mfit\u001b[0m\u001b[0;34m(\u001b[0m\u001b[0mX_train\u001b[0m\u001b[0;34m,\u001b[0m \u001b[0my_train\u001b[0m\u001b[0;34m)\u001b[0m\u001b[0;34m\u001b[0m\u001b[0;34m\u001b[0m\u001b[0m\n\u001b[1;32m      5\u001b[0m \u001b[0;34m\u001b[0m\u001b[0m\n",
      "\u001b[0;31mNameError\u001b[0m: name 'model_selection' is not defined"
     ]
    }
   ],
   "source": [
    "X_train, X_test, y_train, y_test = model_selection.train_test_split(X_hot_encode, suicide, test_size=0.2)\n",
    "\n",
    "regr = RandomForestRegressor(max_depth=2, random_state=0)\n",
    "model = regr.fit(X_train, y_train)\n",
    "\n",
    "# generate predictions for player Rating to compare with y_test data\n",
    "predictions = regr.predict(X_test)\n",
    "\n",
    "plt.figure(figsize=(8,8))\n",
    "plt.title(\"Predicted vs. Actual Values for Suicide number\", fontsize=16)\n",
    "plt.scatter(y_test,predictions)\n",
    "plt.plot(y_test, y_test, color=\"Red\") # identity line y=x\n",
    "plt.xlabel(\"Actual Values\")\n",
    "plt.ylabel(\"Predicted Values\")\n",
    "plt.show()"
   ]
  },
  {
   "cell_type": "markdown",
   "metadata": {},
   "source": [
    "# 3.3 Using Linear Regression \n",
    "We'll now use Linear Regression to try and predict the number of suicides given all the other factors for a certain set of people. Linear Regression tries to fit a linear equation based of the training data to account for the different factors and predict a value. For more information, read [here](https://towardsdatascience.com/a-beginners-guide-to-linear-regression-in-python-with-scikit-learn-83a8f7ae2b4f). \n",
    "<br><br>\n",
    "The process is paralell to what was just done with the Random Forests, we'll first conduct the regression with the method of converting each categorical value to a number. We fit the model to the features and output from the newdf dataframe that we just defined and then compute the R^2 score for the model. We'll then plot the predicted vs actual suicide numbers"
   ]
  },
  {
   "cell_type": "code",
   "execution_count": 123,
   "metadata": {},
   "outputs": [
    {
     "ename": "NameError",
     "evalue": "name 'features2' is not defined",
     "output_type": "error",
     "traceback": [
      "\u001b[0;31m---------------------------------------------------------------------------\u001b[0m",
      "\u001b[0;31mNameError\u001b[0m                                 Traceback (most recent call last)",
      "\u001b[0;32m<ipython-input-123-11c968e4cf64>\u001b[0m in \u001b[0;36m<module>\u001b[0;34m\u001b[0m\n\u001b[0;32m----> 1\u001b[0;31m \u001b[0mX\u001b[0m \u001b[0;34m=\u001b[0m \u001b[0mfeatures2\u001b[0m\u001b[0;34m\u001b[0m\u001b[0;34m\u001b[0m\u001b[0m\n\u001b[0m\u001b[1;32m      2\u001b[0m \u001b[0my\u001b[0m \u001b[0;34m=\u001b[0m \u001b[0msuicide2\u001b[0m\u001b[0;34m\u001b[0m\u001b[0;34m\u001b[0m\u001b[0m\n\u001b[1;32m      3\u001b[0m \u001b[0mlm\u001b[0m \u001b[0;34m=\u001b[0m \u001b[0mlinear_model\u001b[0m\u001b[0;34m.\u001b[0m\u001b[0mLinearRegression\u001b[0m\u001b[0;34m(\u001b[0m\u001b[0;34m)\u001b[0m\u001b[0;34m\u001b[0m\u001b[0;34m\u001b[0m\u001b[0m\n\u001b[1;32m      4\u001b[0m \u001b[0mmodel\u001b[0m \u001b[0;34m=\u001b[0m \u001b[0mlm\u001b[0m\u001b[0;34m.\u001b[0m\u001b[0mfit\u001b[0m\u001b[0;34m(\u001b[0m\u001b[0mX\u001b[0m\u001b[0;34m,\u001b[0m\u001b[0my\u001b[0m\u001b[0;34m)\u001b[0m\u001b[0;34m\u001b[0m\u001b[0;34m\u001b[0m\u001b[0m\n\u001b[1;32m      5\u001b[0m \u001b[0mprint\u001b[0m\u001b[0;34m(\u001b[0m\u001b[0mlm\u001b[0m\u001b[0;34m.\u001b[0m\u001b[0mscore\u001b[0m\u001b[0;34m(\u001b[0m\u001b[0mX\u001b[0m\u001b[0;34m,\u001b[0m\u001b[0my\u001b[0m\u001b[0;34m)\u001b[0m\u001b[0;34m)\u001b[0m\u001b[0;34m\u001b[0m\u001b[0;34m\u001b[0m\u001b[0m\n",
      "\u001b[0;31mNameError\u001b[0m: name 'features2' is not defined"
     ]
    }
   ],
   "source": [
    "X = features2\n",
    "y = suicide2\n",
    "lm = linear_model.LinearRegression()\n",
    "model = lm.fit(X,y)\n",
    "print(lm.score(X,y))\n",
    "X_train, X_test, y_train, y_test = model_selection.train_test_split(X, suicide, test_size=0.2)\n",
    "lm = linear_model.LinearRegression()\n",
    "model = lm.fit(X_train, y_train)\n",
    "predictions = lm.predict(X_test)\n",
    "predictions[0:10]\n",
    "plt.figure(figsize=(8,8))\n",
    "plt.title(\"Predicted vs. Actual Values for Suicide Numbers\", fontsize=16)\n",
    "plt.scatter(y_test,predictions)\n",
    "plt.plot(y_test, y_test, color=\"Red\") # identity line y=x\n",
    "plt.xlabel(\"Actual Values\")\n",
    "plt.ylabel(\"Predicted Values\")\n",
    "plt.show()"
   ]
  },
  {
   "cell_type": "markdown",
   "metadata": {},
   "source": [
    "The r^2 square score and the plot suggest that this isn't an ideal method to use for prediction. We'll now do the same process using the sklearn hot encoded model, with linear regression."
   ]
  },
  {
   "cell_type": "code",
   "execution_count": 124,
   "metadata": {},
   "outputs": [
    {
     "ename": "NameError",
     "evalue": "name 'linear_model' is not defined",
     "output_type": "error",
     "traceback": [
      "\u001b[0;31m---------------------------------------------------------------------------\u001b[0m",
      "\u001b[0;31mNameError\u001b[0m                                 Traceback (most recent call last)",
      "\u001b[0;32m<ipython-input-124-16f622af8169>\u001b[0m in \u001b[0;36m<module>\u001b[0;34m\u001b[0m\n\u001b[0;32m----> 1\u001b[0;31m \u001b[0mlm\u001b[0m \u001b[0;34m=\u001b[0m \u001b[0mlinear_model\u001b[0m\u001b[0;34m.\u001b[0m\u001b[0mLinearRegression\u001b[0m\u001b[0;34m(\u001b[0m\u001b[0;34m)\u001b[0m\u001b[0;34m\u001b[0m\u001b[0;34m\u001b[0m\u001b[0m\n\u001b[0m\u001b[1;32m      2\u001b[0m \u001b[0mmodel\u001b[0m \u001b[0;34m=\u001b[0m \u001b[0mlm\u001b[0m\u001b[0;34m.\u001b[0m\u001b[0mfit\u001b[0m\u001b[0;34m(\u001b[0m\u001b[0mX_hot_encode\u001b[0m\u001b[0;34m,\u001b[0m\u001b[0my\u001b[0m\u001b[0;34m)\u001b[0m\u001b[0;34m\u001b[0m\u001b[0;34m\u001b[0m\u001b[0m\n\u001b[1;32m      3\u001b[0m \u001b[0mprint\u001b[0m\u001b[0;34m(\u001b[0m\u001b[0mlm\u001b[0m\u001b[0;34m.\u001b[0m\u001b[0mscore\u001b[0m\u001b[0;34m(\u001b[0m\u001b[0mX_hot_encode\u001b[0m\u001b[0;34m,\u001b[0m\u001b[0my\u001b[0m\u001b[0;34m)\u001b[0m\u001b[0;34m)\u001b[0m\u001b[0;34m\u001b[0m\u001b[0;34m\u001b[0m\u001b[0m\n\u001b[1;32m      4\u001b[0m \u001b[0mX_train\u001b[0m\u001b[0;34m,\u001b[0m \u001b[0mX_test\u001b[0m\u001b[0;34m,\u001b[0m \u001b[0my_train\u001b[0m\u001b[0;34m,\u001b[0m \u001b[0my_test\u001b[0m \u001b[0;34m=\u001b[0m \u001b[0mmodel_selection\u001b[0m\u001b[0;34m.\u001b[0m\u001b[0mtrain_test_split\u001b[0m\u001b[0;34m(\u001b[0m\u001b[0mX_hot_encode\u001b[0m\u001b[0;34m,\u001b[0m \u001b[0msuicide\u001b[0m\u001b[0;34m,\u001b[0m \u001b[0mtest_size\u001b[0m\u001b[0;34m=\u001b[0m\u001b[0;36m0.2\u001b[0m\u001b[0;34m)\u001b[0m\u001b[0;34m\u001b[0m\u001b[0;34m\u001b[0m\u001b[0m\n\u001b[1;32m      5\u001b[0m \u001b[0mlm\u001b[0m \u001b[0;34m=\u001b[0m \u001b[0mlinear_model\u001b[0m\u001b[0;34m.\u001b[0m\u001b[0mLinearRegression\u001b[0m\u001b[0;34m(\u001b[0m\u001b[0;34m)\u001b[0m\u001b[0;34m\u001b[0m\u001b[0;34m\u001b[0m\u001b[0m\n",
      "\u001b[0;31mNameError\u001b[0m: name 'linear_model' is not defined"
     ]
    }
   ],
   "source": [
    "lm = linear_model.LinearRegression()\n",
    "model = lm.fit(X_hot_encode,y)\n",
    "print(lm.score(X_hot_encode,y))\n",
    "X_train, X_test, y_train, y_test = model_selection.train_test_split(X_hot_encode, suicide, test_size=0.2)\n",
    "lm = linear_model.LinearRegression()\n",
    "model = lm.fit(X_train, y_train)\n",
    "predictions = lm.predict(X_test)\n",
    "predictions[0:10]\n",
    "plt.figure(figsize=(8,8))\n",
    "plt.title(\"Predicted vs. Actual Values for Suicide Numbers\", fontsize=16)\n",
    "plt.scatter(y_test,predictions)\n",
    "plt.plot(y_test, y_test, color=\"Red\") # identity line y=x\n",
    "plt.xlabel(\"Actual Values\")\n",
    "plt.ylabel(\"Predicted Values\")\n",
    "plt.show()"
   ]
  },
  {
   "cell_type": "code",
   "execution_count": null,
   "metadata": {},
   "outputs": [],
   "source": []
  }
 ],
 "metadata": {
  "kernelspec": {
   "display_name": "Python 3",
   "language": "python",
   "name": "python3"
  },
  "language_info": {
   "codemirror_mode": {
    "name": "ipython",
    "version": 3
   },
   "file_extension": ".py",
   "mimetype": "text/x-python",
   "name": "python",
   "nbconvert_exporter": "python",
   "pygments_lexer": "ipython3",
   "version": "3.7.3"
  }
 },
 "nbformat": 4,
 "nbformat_minor": 2
}
