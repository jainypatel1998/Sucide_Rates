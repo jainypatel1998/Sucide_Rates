{
  "nbformat": 4,
  "nbformat_minor": 0,
  "metadata": {
    "celltoolbar": "Slideshow",
    "kernelspec": {
      "display_name": "Julia 0.5.0-rc3",
      "language": "julia",
      "name": "julia-0.5"
    },
    "language_info": {
      "file_extension": ".jl",
      "mimetype": "application/julia",
      "name": "julia",
      "version": "0.5.0"
    },
    "colab": {
      "name": "Index.ipynb",
      "provenance": []
    }
  },
  "cells": [
    {
      "cell_type": "markdown",
      "metadata": {
        "id": "FzIwUa4Ntyhz",
        "colab_type": "text"
      },
      "source": [
        "# Jupyter Site"
      ]
    },
    {
      "cell_type": "markdown",
      "metadata": {
        "id": "eVS83AJktyh_",
        "colab_type": "text"
      },
      "source": [
        "JupyterSite allows you to easily build a suite of rendered documents from Jupyter\n",
        "notebooks. Jupyter notebooks go in, html/markdown pages, PDFs, slideshows, and tex\n",
        "comes out. If you use this in a Github repository, it will even build a Github pages\n",
        "site. This also shows how to make the notebooks easily accessible in Julia.\n",
        "\n",
        "It just takes one button, simplifying the entire process. The `publish.sh` file\n",
        "does all the heavy lifting, showing you how to do all of this (any of the conversions\n",
        "can be disabled by commenting out the appropriate lines)."
      ]
    },
    {
      "cell_type": "markdown",
      "metadata": {
        "id": "evKyJ_ZttyiA",
        "colab_type": "text"
      },
      "source": [
        "## Example Site\n",
        "\n",
        "An example of the product this package generates can be found at: https://github.com/UCIDataScienceInitiative/IntroToJulia . \n",
        "\n",
        "The site that this generates is: http://UCIDataScienceInitiative.github.io/IntroToJulia/"
      ]
    },
    {
      "cell_type": "code",
      "metadata": {
        "id": "xBdQpbfUt4KK",
        "colab_type": "code",
        "colab": {
          "base_uri": "https://localhost:8080/",
          "height": 35
        },
        "outputId": "22f84bdd-f914-4136-c1e1-90d78131cdd0"
      },
      "source": [
        "print('Hello world')"
      ],
      "execution_count": 2,
      "outputs": [
        {
          "output_type": "stream",
          "text": [
            "Hello world\n"
          ],
          "name": "stdout"
        }
      ]
    },
    {
      "cell_type": "markdown",
      "metadata": {
        "id": "ANkKdRKutyiB",
        "colab_type": "text"
      },
      "source": [
        "## Installation\n",
        "\n",
        "To use this, first install Jupyter (note: Python must be installed)\n",
        "\n",
        "```bash\n",
        "pip install jupyter\n",
        "```\n",
        "\n",
        "For the PDF output to work, a distribution of LaTeX must be installed. Also, we\n",
        "will need pandoc:\n",
        "\n",
        "```bash\n",
        "pip install pandoc\n",
        "```"
      ]
    },
    {
      "cell_type": "markdown",
      "metadata": {
        "id": "PEjSRj1VtyiC",
        "colab_type": "text"
      },
      "source": [
        "## Using the Package\n",
        "\n",
        "### Downloading the Template\n",
        "\n",
        "The easiest way to get started is to clone the package repository using Git:\n",
        "\n",
        "```bash\n",
        "git clone https://github.com/ChrisRackauckas/JupyterSite\n",
        "```"
      ]
    },
    {
      "cell_type": "markdown",
      "metadata": {
        "id": "gcv-CuA_tyiD",
        "colab_type": "text"
      },
      "source": [
        "### The Notebooks\n",
        "\n",
        "The files which the site is built from are the notebooks that are included in\n",
        "the Notebooks folder. The `Index.ipynb` file build the site index (the first\n",
        "page shown in the webpage) and additional `.ipynb` files are rendered in the various\n",
        "forms. Thus to add your own content, simply add the `.ipynb` files to this directory.\n",
        "\n",
        "Note that notebooks have to be setup for slides in order for the slideshow to work.\n",
        "Inside the notebook, use view > CellToolbar > Slideshow and set the appropriate blocks\n",
        "to slides."
      ]
    },
    {
      "cell_type": "markdown",
      "metadata": {
        "id": "WVcaMD4HtyiE",
        "colab_type": "text"
      },
      "source": [
        "### Building The Site\n",
        "\n",
        "To build the site files, use the `publish.sh` file. To do so, go to the top directory\n",
        "of the repository and use the command:\n",
        "\n",
        "```bash\n",
        "sh publish.sh\n",
        "```\n",
        "\n",
        "If your Git is correctly setup, this will render the files and upload the files to\n",
        "Github. Upon success, your `index.html` will be available at:\n",
        "\n",
        "```\n",
        "http://<github-username>.github.io/<repository-name>/\n",
        "```\n",
        "\n",
        "For example, my user name is ChrisRackauckas and this repository is named JupyterSite.\n",
        "Therefore the site for that this makes is at\n",
        "\n",
        "```\n",
        "http://ChrisRackauckas.github.io/JupyterSite/\n",
        "```\n",
        "\n",
        "For organizations, the user name is replaced with the organization name."
      ]
    },
    {
      "cell_type": "markdown",
      "metadata": {
        "id": "Y4zAd4aytyiF",
        "colab_type": "text"
      },
      "source": [
        "#### Caveat\n",
        "\n",
        "Note that PDF output is not compatible with the usage of Markdown images (though\n",
        "code with images will allow the PDFs to build, but the images will not appear)."
      ]
    },
    {
      "cell_type": "markdown",
      "metadata": {
        "id": "2ObrRPLKtyiF",
        "colab_type": "text"
      },
      "source": [
        "## Easy Usage from Julia\n",
        "\n",
        "This repository is also setup as a Julia package repository. To have users easily\n",
        "open up the Jupyter notebooks, they can use the commands from within Julia:"
      ]
    },
    {
      "cell_type": "code",
      "metadata": {
        "id": "EEuMp1DwtyiG",
        "colab_type": "code",
        "colab": {}
      },
      "source": [
        "Pkg.add(\"IJulia\") # use once to install IJulia\n",
        "Pkg.clone(\"https://github.com/ChrisRackauckas/JupyterSite\") # Change this to your Github repo\n",
        "using IJulia\n",
        "notebook(dir=Pkg.dir(\"JupyterSite\")*\"/Notebooks\")"
      ],
      "execution_count": 0,
      "outputs": []
    },
    {
      "cell_type": "markdown",
      "metadata": {
        "id": "CuiECds5tyiK",
        "colab_type": "text"
      },
      "source": [
        "This will open up the Jupyter notebook at the location of your notebooks"
      ]
    },
    {
      "cell_type": "markdown",
      "metadata": {
        "id": "jvzj67-ItyiL",
        "colab_type": "text"
      },
      "source": [
        "### Additional Feature: Continuous Integration Testing\n",
        "\n",
        "One can use Julia's continuous integration testing framework to test your notebooks.\n",
        "To do so, check out [this blog post](http://www.stochasticlifestyle.com/finalizing-julia-package-documentation-testing-coverage-publishing/)\n",
        "for how to setup Julia CI and [NBinclude.jl](https://github.com/stevengj/NBInclude.jl) for how\n",
        "to include notebook files into Julia. Use this to add tests to the test/runtests.jl\n",
        "file. To run the tests locally, use the commands"
      ]
    },
    {
      "cell_type": "code",
      "metadata": {
        "id": "7qEP0H3_tyiM",
        "colab_type": "code",
        "colab": {}
      },
      "source": [
        "Pkg.test(\"JupyterSite\")"
      ],
      "execution_count": 0,
      "outputs": []
    },
    {
      "cell_type": "markdown",
      "metadata": {
        "id": "oBKhXJb7tyiQ",
        "colab_type": "text"
      },
      "source": [
        "# Example Output\n",
        "\n",
        "The example notebooks can be found at:\n",
        "\n",
        "https://github.com/ChrisRackauckas/JupyterSite/blob/master/Notebooks\n",
        "\n",
        "## HTML\n",
        "\n",
        "https://chrisrackauckas.github.io/JupyterSite/\n",
        "\n",
        "https://chrisrackauckas.github.io/JupyterSite/Html/GithubIntroduction.html\n",
        "\n",
        "## Slides\n",
        "\n",
        "https://chrisrackauckas.github.io/JupyterSite/Slides/Index.html\n",
        "\n",
        "https://chrisrackauckas.github.io/JupyterSite/Slides/GithubIntroduction.html\n",
        "\n",
        "## Markdown\n",
        "\n",
        "https://github.com/ChrisRackauckas/JupyterSite/tree/master/Markdown\n",
        "\n",
        "## LaTeX\n",
        "\n",
        "https://github.com/ChrisRackauckas/JupyterSite/tree/master/Tex\n",
        "\n",
        "## PDF\n",
        "\n",
        "https://github.com/ChrisRackauckas/JupyterSite/tree/master/Pdfs"
      ]
    }
  ]
}